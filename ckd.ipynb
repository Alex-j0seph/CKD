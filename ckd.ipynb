{
  "nbformat": 4,
  "nbformat_minor": 0,
  "metadata": {
    "colab": {
      "provenance": [],
      "include_colab_link": true
    },
    "kernelspec": {
      "name": "python3",
      "display_name": "Python 3"
    },
    "language_info": {
      "name": "python"
    }
  },
  "cells": [
    {
      "cell_type": "markdown",
      "metadata": {
        "id": "view-in-github",
        "colab_type": "text"
      },
      "source": [
        "<a href=\"https://colab.research.google.com/github/alx1223/Dissertation/blob/main/ckd.ipynb\" target=\"_parent\"><img src=\"https://colab.research.google.com/assets/colab-badge.svg\" alt=\"Open In Colab\"/></a>"
      ]
    },
    {
      "cell_type": "code",
      "execution_count": null,
      "metadata": {
        "colab": {
          "base_uri": "https://localhost:8080/"
        },
        "id": "Jn7ODoPdEMHg",
        "outputId": "e476e383-0dd4-4ac6-bee2-c9f4fadbfcb4"
      },
      "outputs": [
        {
          "output_type": "stream",
          "name": "stdout",
          "text": [
            "Requirement already satisfied: pycaret[full] in /usr/local/lib/python3.10/dist-packages (3.0.4)\n",
            "Requirement already satisfied: ipython>=5.5.0 in /usr/local/lib/python3.10/dist-packages (from pycaret[full]) (7.34.0)\n",
            "Requirement already satisfied: ipywidgets>=7.6.5 in /usr/local/lib/python3.10/dist-packages (from pycaret[full]) (7.7.1)\n",
            "Requirement already satisfied: tqdm>=4.62.0 in /usr/local/lib/python3.10/dist-packages (from pycaret[full]) (4.66.1)\n",
            "Requirement already satisfied: numpy<1.24,>=1.21 in /usr/local/lib/python3.10/dist-packages (from pycaret[full]) (1.23.5)\n",
            "Requirement already satisfied: pandas<2.0.0,>=1.3.0 in /usr/local/lib/python3.10/dist-packages (from pycaret[full]) (1.5.3)\n",
            "Requirement already satisfied: jinja2>=1.2 in /usr/local/lib/python3.10/dist-packages (from pycaret[full]) (3.1.2)\n",
            "Requirement already satisfied: scipy<2.0.0 in /usr/local/lib/python3.10/dist-packages (from pycaret[full]) (1.10.1)\n",
            "Requirement already satisfied: joblib>=1.2.0 in /usr/local/lib/python3.10/dist-packages (from pycaret[full]) (1.3.2)\n",
            "Requirement already satisfied: scikit-learn<1.3.0,>=1.0 in /usr/local/lib/python3.10/dist-packages (from pycaret[full]) (1.2.2)\n",
            "Requirement already satisfied: pyod>=1.0.8 in /usr/local/lib/python3.10/dist-packages (from pycaret[full]) (1.1.0)\n",
            "Requirement already satisfied: imbalanced-learn>=0.8.1 in /usr/local/lib/python3.10/dist-packages (from pycaret[full]) (0.10.1)\n",
            "Requirement already satisfied: category-encoders>=2.4.0 in /usr/local/lib/python3.10/dist-packages (from pycaret[full]) (2.6.2)\n",
            "Requirement already satisfied: lightgbm>=3.0.0 in /usr/local/lib/python3.10/dist-packages (from pycaret[full]) (4.0.0)\n",
            "Requirement already satisfied: numba>=0.55.0 in /usr/local/lib/python3.10/dist-packages (from pycaret[full]) (0.56.4)\n",
            "Requirement already satisfied: requests>=2.27.1 in /usr/local/lib/python3.10/dist-packages (from pycaret[full]) (2.31.0)\n",
            "Requirement already satisfied: psutil>=5.9.0 in /usr/local/lib/python3.10/dist-packages (from pycaret[full]) (5.9.5)\n",
            "Requirement already satisfied: markupsafe>=2.0.1 in /usr/local/lib/python3.10/dist-packages (from pycaret[full]) (2.1.3)\n",
            "Requirement already satisfied: importlib-metadata>=4.12.0 in /usr/local/lib/python3.10/dist-packages (from pycaret[full]) (5.2.0)\n",
            "Requirement already satisfied: nbformat>=4.2.0 in /usr/local/lib/python3.10/dist-packages (from pycaret[full]) (5.9.2)\n",
            "Requirement already satisfied: cloudpickle in /usr/local/lib/python3.10/dist-packages (from pycaret[full]) (2.2.1)\n",
            "Requirement already satisfied: deprecation>=2.1.0 in /usr/local/lib/python3.10/dist-packages (from pycaret[full]) (2.1.0)\n",
            "Requirement already satisfied: xxhash in /usr/local/lib/python3.10/dist-packages (from pycaret[full]) (3.3.0)\n",
            "Requirement already satisfied: matplotlib>=3.3.0 in /usr/local/lib/python3.10/dist-packages (from pycaret[full]) (3.7.1)\n",
            "Requirement already satisfied: scikit-plot>=0.3.7 in /usr/local/lib/python3.10/dist-packages (from pycaret[full]) (0.3.7)\n",
            "Requirement already satisfied: yellowbrick>=1.4 in /usr/local/lib/python3.10/dist-packages (from pycaret[full]) (1.5)\n",
            "Requirement already satisfied: plotly>=5.0.0 in /usr/local/lib/python3.10/dist-packages (from pycaret[full]) (5.15.0)\n",
            "Requirement already satisfied: kaleido>=0.2.1 in /usr/local/lib/python3.10/dist-packages (from pycaret[full]) (0.2.1)\n",
            "Requirement already satisfied: schemdraw==0.15 in /usr/local/lib/python3.10/dist-packages (from pycaret[full]) (0.15)\n",
            "Requirement already satisfied: plotly-resampler>=0.8.3.1 in /usr/local/lib/python3.10/dist-packages (from pycaret[full]) (0.9.1)\n",
            "Requirement already satisfied: statsmodels>=0.12.1 in /usr/local/lib/python3.10/dist-packages (from pycaret[full]) (0.14.0)\n",
            "Requirement already satisfied: sktime!=0.17.1,!=0.17.2,!=0.18.0,>=0.16.1 in /usr/local/lib/python3.10/dist-packages (from pycaret[full]) (0.22.0)\n",
            "Requirement already satisfied: tbats>=1.1.3 in /usr/local/lib/python3.10/dist-packages (from pycaret[full]) (1.1.3)\n",
            "Requirement already satisfied: pmdarima!=1.8.1,<3.0.0,>=1.8.0 in /usr/local/lib/python3.10/dist-packages (from pycaret[full]) (2.0.3)\n",
            "Requirement already satisfied: wurlitzer in /usr/local/lib/python3.10/dist-packages (from pycaret[full]) (3.0.3)\n",
            "Requirement already satisfied: shap>=0.38.0 in /usr/local/lib/python3.10/dist-packages (from pycaret[full]) (0.42.1)\n",
            "Requirement already satisfied: interpret>=0.2.7 in /usr/local/lib/python3.10/dist-packages (from pycaret[full]) (0.4.3)\n",
            "Requirement already satisfied: umap-learn>=0.5.2 in /usr/local/lib/python3.10/dist-packages (from pycaret[full]) (0.5.3)\n",
            "Requirement already satisfied: pandas-profiling>=3.1.0 in /usr/local/lib/python3.10/dist-packages (from pycaret[full]) (3.6.6)\n",
            "Requirement already satisfied: explainerdashboard>=0.3.8 in /usr/local/lib/python3.10/dist-packages (from pycaret[full]) (0.4.3)\n",
            "Requirement already satisfied: Flask==2.2.3 in /usr/local/lib/python3.10/dist-packages (from pycaret[full]) (2.2.3)\n",
            "Requirement already satisfied: bokeh<3.0.0 in /usr/local/lib/python3.10/dist-packages (from pycaret[full]) (2.4.3)\n",
            "Requirement already satisfied: autoviz>=0.1.36 in /usr/local/lib/python3.10/dist-packages (from pycaret[full]) (0.1.730)\n",
            "Requirement already satisfied: fairlearn==0.7.0 in /usr/local/lib/python3.10/dist-packages (from pycaret[full]) (0.7.0)\n",
            "Requirement already satisfied: deepchecks>=0.9.2 in /usr/local/lib/python3.10/dist-packages (from pycaret[full]) (0.17.4)\n",
            "Requirement already satisfied: xgboost>=1.1.0 in /usr/local/lib/python3.10/dist-packages (from pycaret[full]) (1.7.6)\n",
            "Requirement already satisfied: kmodes>=0.11.1 in /usr/local/lib/python3.10/dist-packages (from pycaret[full]) (0.12.2)\n",
            "Requirement already satisfied: mlxtend>=0.19.0 in /usr/local/lib/python3.10/dist-packages (from pycaret[full]) (0.22.0)\n",
            "Requirement already satisfied: statsforecast>=0.5.5 in /usr/local/lib/python3.10/dist-packages (from pycaret[full]) (1.5.0)\n",
            "Requirement already satisfied: tune-sklearn>=0.2.1 in /usr/local/lib/python3.10/dist-packages (from pycaret[full]) (0.4.6)\n",
            "Requirement already satisfied: ray[tune]>=1.0.0 in /usr/local/lib/python3.10/dist-packages (from pycaret[full]) (2.6.3)\n",
            "Requirement already satisfied: hyperopt>=0.2.7 in /usr/local/lib/python3.10/dist-packages (from pycaret[full]) (0.2.7)\n",
            "Requirement already satisfied: optuna>=3.0.0 in /usr/local/lib/python3.10/dist-packages (from pycaret[full]) (3.3.0)\n",
            "Requirement already satisfied: scikit-optimize>=0.9.0 in /usr/local/lib/python3.10/dist-packages (from pycaret[full]) (0.9.0)\n",
            "Requirement already satisfied: mlflow<2.0.0,>=1.24.0 in /usr/local/lib/python3.10/dist-packages (from pycaret[full]) (1.30.1)\n",
            "Requirement already satisfied: gradio>=2.8.10 in /usr/local/lib/python3.10/dist-packages (from pycaret[full]) (3.40.1)\n",
            "Requirement already satisfied: boto3>=1.24.56 in /usr/local/lib/python3.10/dist-packages (from pycaret[full]) (1.28.31)\n",
            "Requirement already satisfied: fastapi>=0.75.0 in /usr/local/lib/python3.10/dist-packages (from pycaret[full]) (0.101.1)\n",
            "Requirement already satisfied: uvicorn>=0.17.6 in /usr/local/lib/python3.10/dist-packages (from pycaret[full]) (0.23.2)\n",
            "Requirement already satisfied: m2cgen>=0.9.0 in /usr/local/lib/python3.10/dist-packages (from pycaret[full]) (0.10.0)\n",
            "Requirement already satisfied: evidently<0.3,>=0.1.45.dev0 in /usr/local/lib/python3.10/dist-packages (from pycaret[full]) (0.2.8)\n",
            "Requirement already satisfied: fugue>=0.8.0 in /usr/local/lib/python3.10/dist-packages (from pycaret[full]) (0.8.6)\n",
            "Requirement already satisfied: pytest>=7.0.1 in /usr/local/lib/python3.10/dist-packages (from pycaret[full]) (7.4.0)\n",
            "Requirement already satisfied: moto>=3.0.7 in /usr/local/lib/python3.10/dist-packages (from pycaret[full]) (4.1.15)\n",
            "Requirement already satisfied: dash[testing] in /usr/local/lib/python3.10/dist-packages (from pycaret[full]) (2.12.1)\n",
            "Requirement already satisfied: scikit-learn-intelex>=2023.0.1 in /usr/local/lib/python3.10/dist-packages (from pycaret[full]) (2023.2.1)\n",
            "Requirement already satisfied: catboost>=0.23.2 in /usr/local/lib/python3.10/dist-packages (from pycaret[full]) (1.2)\n",
            "Requirement already satisfied: Werkzeug>=2.2.2 in /usr/local/lib/python3.10/dist-packages (from Flask==2.2.3->pycaret[full]) (2.2.3)\n",
            "Requirement already satisfied: itsdangerous>=2.0 in /usr/local/lib/python3.10/dist-packages (from Flask==2.2.3->pycaret[full]) (2.1.2)\n",
            "Requirement already satisfied: click>=8.0 in /usr/local/lib/python3.10/dist-packages (from Flask==2.2.3->pycaret[full]) (8.1.7)\n",
            "Requirement already satisfied: emoji in /usr/local/lib/python3.10/dist-packages (from autoviz>=0.1.36->pycaret[full]) (2.8.0)\n",
            "Requirement already satisfied: fsspec>=0.8.3 in /usr/local/lib/python3.10/dist-packages (from autoviz>=0.1.36->pycaret[full]) (2023.6.0)\n",
            "Requirement already satisfied: holoviews~=1.14.9 in /usr/local/lib/python3.10/dist-packages (from autoviz>=0.1.36->pycaret[full]) (1.14.9)\n",
            "Requirement already satisfied: hvplot~=0.7.3 in /usr/local/lib/python3.10/dist-packages (from autoviz>=0.1.36->pycaret[full]) (0.7.3)\n",
            "Requirement already satisfied: jupyter in /usr/local/lib/python3.10/dist-packages (from autoviz>=0.1.36->pycaret[full]) (1.0.0)\n",
            "Requirement already satisfied: nltk in /usr/local/lib/python3.10/dist-packages (from autoviz>=0.1.36->pycaret[full]) (3.8.1)\n",
            "Requirement already satisfied: pandas-dq==1.28 in /usr/local/lib/python3.10/dist-packages (from autoviz>=0.1.36->pycaret[full]) (1.28)\n",
            "Requirement already satisfied: panel>=0.12.6 in /usr/local/lib/python3.10/dist-packages (from autoviz>=0.1.36->pycaret[full]) (0.14.4)\n",
            "Requirement already satisfied: pyamg in /usr/local/lib/python3.10/dist-packages (from autoviz>=0.1.36->pycaret[full]) (5.0.1)\n",
            "Requirement already satisfied: seaborn>=0.11.1 in /usr/local/lib/python3.10/dist-packages (from autoviz>=0.1.36->pycaret[full]) (0.12.2)\n",
            "Requirement already satisfied: textblob in /usr/local/lib/python3.10/dist-packages (from autoviz>=0.1.36->pycaret[full]) (0.17.1)\n",
            "Requirement already satisfied: typing-extensions>=4.1.1 in /usr/local/lib/python3.10/dist-packages (from autoviz>=0.1.36->pycaret[full]) (4.7.1)\n",
            "Requirement already satisfied: wordcloud in /usr/local/lib/python3.10/dist-packages (from autoviz>=0.1.36->pycaret[full]) (1.9.2)\n",
            "Requirement already satisfied: xlrd in /usr/local/lib/python3.10/dist-packages (from autoviz>=0.1.36->pycaret[full]) (2.0.1)\n",
            "Requirement already satisfied: packaging>=16.8 in /usr/local/lib/python3.10/dist-packages (from bokeh<3.0.0->pycaret[full]) (21.3)\n",
            "Requirement already satisfied: pillow>=7.1.0 in /usr/local/lib/python3.10/dist-packages (from bokeh<3.0.0->pycaret[full]) (9.4.0)\n",
            "Requirement already satisfied: PyYAML>=3.10 in /usr/local/lib/python3.10/dist-packages (from bokeh<3.0.0->pycaret[full]) (6.0.1)\n",
            "Requirement already satisfied: tornado>=5.1 in /usr/local/lib/python3.10/dist-packages (from bokeh<3.0.0->pycaret[full]) (6.3.2)\n",
            "Requirement already satisfied: botocore<1.32.0,>=1.31.31 in /usr/local/lib/python3.10/dist-packages (from boto3>=1.24.56->pycaret[full]) (1.31.31)\n",
            "Requirement already satisfied: jmespath<2.0.0,>=0.7.1 in /usr/local/lib/python3.10/dist-packages (from boto3>=1.24.56->pycaret[full]) (1.0.1)\n",
            "Requirement already satisfied: s3transfer<0.7.0,>=0.6.0 in /usr/local/lib/python3.10/dist-packages (from boto3>=1.24.56->pycaret[full]) (0.6.2)\n",
            "Requirement already satisfied: graphviz in /usr/local/lib/python3.10/dist-packages (from catboost>=0.23.2->pycaret[full]) (0.20.1)\n",
            "Requirement already satisfied: six in /usr/local/lib/python3.10/dist-packages (from catboost>=0.23.2->pycaret[full]) (1.16.0)\n",
            "Requirement already satisfied: patsy>=0.5.1 in /usr/local/lib/python3.10/dist-packages (from category-encoders>=2.4.0->pycaret[full]) (0.5.3)\n",
            "Requirement already satisfied: jsonpickle>=2 in /usr/local/lib/python3.10/dist-packages (from deepchecks>=0.9.2->pycaret[full]) (3.0.2)\n",
            "Requirement already satisfied: PyNomaly>=0.3.3 in /usr/local/lib/python3.10/dist-packages (from deepchecks>=0.9.2->pycaret[full]) (0.3.3)\n",
            "Requirement already satisfied: pyzmq<24.0.0 in /usr/local/lib/python3.10/dist-packages (from deepchecks>=0.9.2->pycaret[full]) (23.2.1)\n",
            "Requirement already satisfied: beautifulsoup4>=4.11.1 in /usr/local/lib/python3.10/dist-packages (from deepchecks>=0.9.2->pycaret[full]) (4.11.2)\n",
            "Requirement already satisfied: ipykernel>=5.3.0 in /usr/local/lib/python3.10/dist-packages (from deepchecks>=0.9.2->pycaret[full]) (5.5.6)\n",
            "Requirement already satisfied: pydantic<2 in /usr/local/lib/python3.10/dist-packages (from evidently<0.3,>=0.1.45.dev0->pycaret[full]) (1.10.12)\n",
            "Requirement already satisfied: dash-auth in /usr/local/lib/python3.10/dist-packages (from explainerdashboard>=0.3.8->pycaret[full]) (2.0.0)\n",
            "Requirement already satisfied: dash-bootstrap-components>=1 in /usr/local/lib/python3.10/dist-packages (from explainerdashboard>=0.3.8->pycaret[full]) (1.4.2)\n",
            "Requirement already satisfied: dtreeviz>=2.1 in /usr/local/lib/python3.10/dist-packages (from explainerdashboard>=0.3.8->pycaret[full]) (2.2.2)\n",
            "Requirement already satisfied: flask-simplelogin in /usr/local/lib/python3.10/dist-packages (from explainerdashboard>=0.3.8->pycaret[full]) (0.1.2)\n",
            "Requirement already satisfied: Flask-WTF>=1.1 in /usr/local/lib/python3.10/dist-packages (from explainerdashboard>=0.3.8->pycaret[full]) (1.1.1)\n",
            "Requirement already satisfied: jupyter-dash>=0.4.1 in /usr/local/lib/python3.10/dist-packages (from explainerdashboard>=0.3.8->pycaret[full]) (0.4.2)\n",
            "Requirement already satisfied: oyaml in /usr/local/lib/python3.10/dist-packages (from explainerdashboard>=0.3.8->pycaret[full]) (1.0)\n",
            "Requirement already satisfied: waitress in /usr/local/lib/python3.10/dist-packages (from explainerdashboard>=0.3.8->pycaret[full]) (2.1.2)\n",
            "Requirement already satisfied: starlette<0.28.0,>=0.27.0 in /usr/local/lib/python3.10/dist-packages (from fastapi>=0.75.0->pycaret[full]) (0.27.0)\n",
            "Requirement already satisfied: triad>=0.9.1 in /usr/local/lib/python3.10/dist-packages (from fugue>=0.8.0->pycaret[full]) (0.9.1)\n",
            "Requirement already satisfied: adagio>=0.2.4 in /usr/local/lib/python3.10/dist-packages (from fugue>=0.8.0->pycaret[full]) (0.2.4)\n",
            "Requirement already satisfied: pyarrow>=0.15.1 in /usr/local/lib/python3.10/dist-packages (from fugue>=0.8.0->pycaret[full]) (9.0.0)\n",
            "Requirement already satisfied: qpd>=0.4.4 in /usr/local/lib/python3.10/dist-packages (from fugue>=0.8.0->pycaret[full]) (0.4.4)\n",
            "Requirement already satisfied: fugue-sql-antlr>=0.1.6 in /usr/local/lib/python3.10/dist-packages (from fugue>=0.8.0->pycaret[full]) (0.1.6)\n",
            "Requirement already satisfied: sqlglot in /usr/local/lib/python3.10/dist-packages (from fugue>=0.8.0->pycaret[full]) (17.14.2)\n",
            "Requirement already satisfied: dask[dataframe,distributed]<2023.7.1,>=2022.9.0 in /usr/local/lib/python3.10/dist-packages (from fugue>=0.8.0->pycaret[full]) (2023.7.0)\n",
            "Requirement already satisfied: aiofiles<24.0,>=22.0 in /usr/local/lib/python3.10/dist-packages (from gradio>=2.8.10->pycaret[full]) (23.2.1)\n",
            "Requirement already satisfied: aiohttp~=3.0 in /usr/local/lib/python3.10/dist-packages (from gradio>=2.8.10->pycaret[full]) (3.8.5)\n",
            "Requirement already satisfied: altair<6.0,>=4.2.0 in /usr/local/lib/python3.10/dist-packages (from gradio>=2.8.10->pycaret[full]) (4.2.2)\n",
            "Requirement already satisfied: ffmpy in /usr/local/lib/python3.10/dist-packages (from gradio>=2.8.10->pycaret[full]) (0.3.1)\n",
            "Requirement already satisfied: gradio-client>=0.4.0 in /usr/local/lib/python3.10/dist-packages (from gradio>=2.8.10->pycaret[full]) (0.4.0)\n",
            "Requirement already satisfied: httpx in /usr/local/lib/python3.10/dist-packages (from gradio>=2.8.10->pycaret[full]) (0.24.1)\n",
            "Requirement already satisfied: huggingface-hub>=0.14.0 in /usr/local/lib/python3.10/dist-packages (from gradio>=2.8.10->pycaret[full]) (0.16.4)\n",
            "Requirement already satisfied: importlib-resources<7.0,>=1.3 in /usr/local/lib/python3.10/dist-packages (from gradio>=2.8.10->pycaret[full]) (6.0.1)\n",
            "Requirement already satisfied: markdown-it-py[linkify]>=2.0.0 in /usr/local/lib/python3.10/dist-packages (from gradio>=2.8.10->pycaret[full]) (2.2.0)\n",
            "Requirement already satisfied: mdit-py-plugins<=0.3.3 in /usr/local/lib/python3.10/dist-packages (from gradio>=2.8.10->pycaret[full]) (0.3.3)\n",
            "Requirement already satisfied: orjson~=3.0 in /usr/local/lib/python3.10/dist-packages (from gradio>=2.8.10->pycaret[full]) (3.9.5)\n",
            "Requirement already satisfied: pydub in /usr/local/lib/python3.10/dist-packages (from gradio>=2.8.10->pycaret[full]) (0.25.1)\n",
            "Requirement already satisfied: python-multipart in /usr/local/lib/python3.10/dist-packages (from gradio>=2.8.10->pycaret[full]) (0.0.6)\n",
            "Requirement already satisfied: semantic-version~=2.0 in /usr/local/lib/python3.10/dist-packages (from gradio>=2.8.10->pycaret[full]) (2.10.0)\n",
            "Requirement already satisfied: websockets<12.0,>=10.0 in /usr/local/lib/python3.10/dist-packages (from gradio>=2.8.10->pycaret[full]) (11.0.3)\n",
            "Requirement already satisfied: networkx>=2.2 in /usr/local/lib/python3.10/dist-packages (from hyperopt>=0.2.7->pycaret[full]) (3.1)\n",
            "Requirement already satisfied: future in /usr/local/lib/python3.10/dist-packages (from hyperopt>=0.2.7->pycaret[full]) (0.18.3)\n",
            "Requirement already satisfied: py4j in /usr/local/lib/python3.10/dist-packages (from hyperopt>=0.2.7->pycaret[full]) (0.10.9.7)\n",
            "Requirement already satisfied: threadpoolctl>=2.0.0 in /usr/local/lib/python3.10/dist-packages (from imbalanced-learn>=0.8.1->pycaret[full]) (3.2.0)\n",
            "Requirement already satisfied: zipp>=0.5 in /usr/local/lib/python3.10/dist-packages (from importlib-metadata>=4.12.0->pycaret[full]) (3.16.2)\n",
            "Requirement already satisfied: interpret-core[dash,debug,decisiontree,ebm,lime,linear,notebook,plotly,required,sensitivity,shap,skoperules,treeinterpreter]==0.4.3 in /usr/local/lib/python3.10/dist-packages (from interpret>=0.2.7->pycaret[full]) (0.4.3)\n",
            "Requirement already satisfied: treeinterpreter>=0.2.2 in /usr/local/lib/python3.10/dist-packages (from interpret-core[dash,debug,decisiontree,ebm,lime,linear,notebook,plotly,required,sensitivity,shap,skoperules,treeinterpreter]==0.4.3->interpret>=0.2.7->pycaret[full]) (0.2.3)\n",
            "Requirement already satisfied: dash-core-components>=1.0.0 in /usr/local/lib/python3.10/dist-packages (from interpret-core[dash,debug,decisiontree,ebm,lime,linear,notebook,plotly,required,sensitivity,shap,skoperules,treeinterpreter]==0.4.3->interpret>=0.2.7->pycaret[full]) (2.0.0)\n",
            "Requirement already satisfied: dash-html-components>=1.0.0 in /usr/local/lib/python3.10/dist-packages (from interpret-core[dash,debug,decisiontree,ebm,lime,linear,notebook,plotly,required,sensitivity,shap,skoperules,treeinterpreter]==0.4.3->interpret>=0.2.7->pycaret[full]) (2.0.0)\n",
            "Requirement already satisfied: dash-table>=4.1.0 in /usr/local/lib/python3.10/dist-packages (from interpret-core[dash,debug,decisiontree,ebm,lime,linear,notebook,plotly,required,sensitivity,shap,skoperules,treeinterpreter]==0.4.3->interpret>=0.2.7->pycaret[full]) (5.0.0)\n",
            "Requirement already satisfied: dash-cytoscape>=0.1.1 in /usr/local/lib/python3.10/dist-packages (from interpret-core[dash,debug,decisiontree,ebm,lime,linear,notebook,plotly,required,sensitivity,shap,skoperules,treeinterpreter]==0.4.3->interpret>=0.2.7->pycaret[full]) (0.3.0)\n",
            "Requirement already satisfied: gevent>=1.3.6 in /usr/local/lib/python3.10/dist-packages (from interpret-core[dash,debug,decisiontree,ebm,lime,linear,notebook,plotly,required,sensitivity,shap,skoperules,treeinterpreter]==0.4.3->interpret>=0.2.7->pycaret[full]) (23.7.0)\n",
            "Requirement already satisfied: SALib>=1.3.3 in /usr/local/lib/python3.10/dist-packages (from interpret-core[dash,debug,decisiontree,ebm,lime,linear,notebook,plotly,required,sensitivity,shap,skoperules,treeinterpreter]==0.4.3->interpret>=0.2.7->pycaret[full]) (1.4.7)\n",
            "Requirement already satisfied: lime>=0.1.1.33 in /usr/local/lib/python3.10/dist-packages (from interpret-core[dash,debug,decisiontree,ebm,lime,linear,notebook,plotly,required,sensitivity,shap,skoperules,treeinterpreter]==0.4.3->interpret>=0.2.7->pycaret[full]) (0.2.0.1)\n",
            "Requirement already satisfied: skope-rules>=1.0.1 in /usr/local/lib/python3.10/dist-packages (from interpret-core[dash,debug,decisiontree,ebm,lime,linear,notebook,plotly,required,sensitivity,shap,skoperules,treeinterpreter]==0.4.3->interpret>=0.2.7->pycaret[full]) (1.0.1)\n",
            "Requirement already satisfied: dill>=0.2.5 in /usr/local/lib/python3.10/dist-packages (from interpret-core[dash,debug,decisiontree,ebm,lime,linear,notebook,plotly,required,sensitivity,shap,skoperules,treeinterpreter]==0.4.3->interpret>=0.2.7->pycaret[full]) (0.3.7)\n",
            "Requirement already satisfied: setuptools>=18.5 in /usr/local/lib/python3.10/dist-packages (from ipython>=5.5.0->pycaret[full]) (67.7.2)\n",
            "Requirement already satisfied: jedi>=0.16 in /usr/local/lib/python3.10/dist-packages (from ipython>=5.5.0->pycaret[full]) (0.19.0)\n",
            "Requirement already satisfied: decorator in /usr/local/lib/python3.10/dist-packages (from ipython>=5.5.0->pycaret[full]) (4.4.2)\n",
            "Requirement already satisfied: pickleshare in /usr/local/lib/python3.10/dist-packages (from ipython>=5.5.0->pycaret[full]) (0.7.5)\n",
            "Requirement already satisfied: traitlets>=4.2 in /usr/local/lib/python3.10/dist-packages (from ipython>=5.5.0->pycaret[full]) (5.7.1)\n",
            "Requirement already satisfied: prompt-toolkit!=3.0.0,!=3.0.1,<3.1.0,>=2.0.0 in /usr/local/lib/python3.10/dist-packages (from ipython>=5.5.0->pycaret[full]) (3.0.39)\n",
            "Requirement already satisfied: pygments in /usr/local/lib/python3.10/dist-packages (from ipython>=5.5.0->pycaret[full]) (2.16.1)\n",
            "Requirement already satisfied: backcall in /usr/local/lib/python3.10/dist-packages (from ipython>=5.5.0->pycaret[full]) (0.2.0)\n",
            "Requirement already satisfied: matplotlib-inline in /usr/local/lib/python3.10/dist-packages (from ipython>=5.5.0->pycaret[full]) (0.1.6)\n",
            "Requirement already satisfied: pexpect>4.3 in /usr/local/lib/python3.10/dist-packages (from ipython>=5.5.0->pycaret[full]) (4.8.0)\n",
            "Requirement already satisfied: ipython-genutils~=0.2.0 in /usr/local/lib/python3.10/dist-packages (from ipywidgets>=7.6.5->pycaret[full]) (0.2.0)\n",
            "Requirement already satisfied: widgetsnbextension~=3.6.0 in /usr/local/lib/python3.10/dist-packages (from ipywidgets>=7.6.5->pycaret[full]) (3.6.5)\n",
            "Requirement already satisfied: jupyterlab-widgets>=1.0.0 in /usr/local/lib/python3.10/dist-packages (from ipywidgets>=7.6.5->pycaret[full]) (3.0.8)\n",
            "Requirement already satisfied: contourpy>=1.0.1 in /usr/local/lib/python3.10/dist-packages (from matplotlib>=3.3.0->pycaret[full]) (1.1.0)\n",
            "Requirement already satisfied: cycler>=0.10 in /usr/local/lib/python3.10/dist-packages (from matplotlib>=3.3.0->pycaret[full]) (0.11.0)\n",
            "Requirement already satisfied: fonttools>=4.22.0 in /usr/local/lib/python3.10/dist-packages (from matplotlib>=3.3.0->pycaret[full]) (4.42.0)\n",
            "Requirement already satisfied: kiwisolver>=1.0.1 in /usr/local/lib/python3.10/dist-packages (from matplotlib>=3.3.0->pycaret[full]) (1.4.4)\n",
            "Requirement already satisfied: pyparsing>=2.3.1 in /usr/local/lib/python3.10/dist-packages (from matplotlib>=3.3.0->pycaret[full]) (3.1.1)\n",
            "Requirement already satisfied: python-dateutil>=2.7 in /usr/local/lib/python3.10/dist-packages (from matplotlib>=3.3.0->pycaret[full]) (2.8.2)\n",
            "Requirement already satisfied: databricks-cli<1,>=0.8.7 in /usr/local/lib/python3.10/dist-packages (from mlflow<2.0.0,>=1.24.0->pycaret[full]) (0.17.7)\n",
            "Requirement already satisfied: entrypoints<1 in /usr/local/lib/python3.10/dist-packages (from mlflow<2.0.0,>=1.24.0->pycaret[full]) (0.4)\n",
            "Requirement already satisfied: gitpython<4,>=2.1.0 in /usr/local/lib/python3.10/dist-packages (from mlflow<2.0.0,>=1.24.0->pycaret[full]) (3.1.32)\n",
            "Requirement already satisfied: protobuf<5,>=3.12.0 in /usr/local/lib/python3.10/dist-packages (from mlflow<2.0.0,>=1.24.0->pycaret[full]) (3.20.3)\n",
            "Requirement already satisfied: pytz<2023 in /usr/local/lib/python3.10/dist-packages (from mlflow<2.0.0,>=1.24.0->pycaret[full]) (2022.7.1)\n",
            "Requirement already satisfied: sqlparse<1,>=0.4.0 in /usr/local/lib/python3.10/dist-packages (from mlflow<2.0.0,>=1.24.0->pycaret[full]) (0.4.4)\n",
            "Requirement already satisfied: alembic<2 in /usr/local/lib/python3.10/dist-packages (from mlflow<2.0.0,>=1.24.0->pycaret[full]) (1.11.3)\n",
            "Requirement already satisfied: docker<7,>=4.0.0 in /usr/local/lib/python3.10/dist-packages (from mlflow<2.0.0,>=1.24.0->pycaret[full]) (6.1.3)\n",
            "Requirement already satisfied: prometheus-flask-exporter<1 in /usr/local/lib/python3.10/dist-packages (from mlflow<2.0.0,>=1.24.0->pycaret[full]) (0.22.4)\n",
            "Requirement already satisfied: querystring-parser<2 in /usr/local/lib/python3.10/dist-packages (from mlflow<2.0.0,>=1.24.0->pycaret[full]) (1.2.4)\n",
            "Requirement already satisfied: sqlalchemy<2,>=1.4.0 in /usr/local/lib/python3.10/dist-packages (from mlflow<2.0.0,>=1.24.0->pycaret[full]) (1.4.49)\n",
            "Requirement already satisfied: gunicorn<21 in /usr/local/lib/python3.10/dist-packages (from mlflow<2.0.0,>=1.24.0->pycaret[full]) (20.1.0)\n",
            "Requirement already satisfied: cryptography>=3.3.1 in /usr/local/lib/python3.10/dist-packages (from moto>=3.0.7->pycaret[full]) (41.0.3)\n",
            "Requirement already satisfied: xmltodict in /usr/local/lib/python3.10/dist-packages (from moto>=3.0.7->pycaret[full]) (0.13.0)\n",
            "Requirement already satisfied: responses>=0.13.0 in /usr/local/lib/python3.10/dist-packages (from moto>=3.0.7->pycaret[full]) (0.23.3)\n",
            "Requirement already satisfied: fastjsonschema in /usr/local/lib/python3.10/dist-packages (from nbformat>=4.2.0->pycaret[full]) (2.18.0)\n",
            "Requirement already satisfied: jsonschema>=2.6 in /usr/local/lib/python3.10/dist-packages (from nbformat>=4.2.0->pycaret[full]) (4.19.0)\n",
            "Requirement already satisfied: jupyter-core in /usr/local/lib/python3.10/dist-packages (from nbformat>=4.2.0->pycaret[full]) (5.3.1)\n",
            "Requirement already satisfied: llvmlite<0.40,>=0.39.0dev0 in /usr/local/lib/python3.10/dist-packages (from numba>=0.55.0->pycaret[full]) (0.39.1)\n",
            "Requirement already satisfied: cmaes>=0.10.0 in /usr/local/lib/python3.10/dist-packages (from optuna>=3.0.0->pycaret[full]) (0.10.0)\n",
            "Requirement already satisfied: colorlog in /usr/local/lib/python3.10/dist-packages (from optuna>=3.0.0->pycaret[full]) (6.7.0)\n",
            "Requirement already satisfied: ydata-profiling in /usr/local/lib/python3.10/dist-packages (from pandas-profiling>=3.1.0->pycaret[full]) (4.5.1)\n",
            "Requirement already satisfied: tenacity>=6.2.0 in /usr/local/lib/python3.10/dist-packages (from plotly>=5.0.0->pycaret[full]) (8.2.3)\n",
            "Requirement already satisfied: trace-updater>=0.0.8 in /usr/local/lib/python3.10/dist-packages (from plotly-resampler>=0.8.3.1->pycaret[full]) (0.0.9.1)\n",
            "Requirement already satisfied: tsdownsample==0.1.2 in /usr/local/lib/python3.10/dist-packages (from plotly-resampler>=0.8.3.1->pycaret[full]) (0.1.2)\n",
            "Requirement already satisfied: Cython!=0.29.18,!=0.29.31,>=0.29 in /usr/local/lib/python3.10/dist-packages (from pmdarima!=1.8.1,<3.0.0,>=1.8.0->pycaret[full]) (0.29.36)\n",
            "Requirement already satisfied: urllib3 in /usr/local/lib/python3.10/dist-packages (from pmdarima!=1.8.1,<3.0.0,>=1.8.0->pycaret[full]) (1.26.16)\n",
            "Requirement already satisfied: iniconfig in /usr/local/lib/python3.10/dist-packages (from pytest>=7.0.1->pycaret[full]) (2.0.0)\n",
            "Requirement already satisfied: pluggy<2.0,>=0.12 in /usr/local/lib/python3.10/dist-packages (from pytest>=7.0.1->pycaret[full]) (1.2.0)\n",
            "Requirement already satisfied: exceptiongroup>=1.0.0rc8 in /usr/local/lib/python3.10/dist-packages (from pytest>=7.0.1->pycaret[full]) (1.1.3)\n",
            "Requirement already satisfied: tomli>=1.0.0 in /usr/local/lib/python3.10/dist-packages (from pytest>=7.0.1->pycaret[full]) (2.0.1)\n",
            "Requirement already satisfied: filelock in /usr/local/lib/python3.10/dist-packages (from ray[tune]>=1.0.0->pycaret[full]) (3.12.2)\n",
            "Requirement already satisfied: msgpack<2.0.0,>=1.0.0 in /usr/local/lib/python3.10/dist-packages (from ray[tune]>=1.0.0->pycaret[full]) (1.0.5)\n",
            "Requirement already satisfied: aiosignal in /usr/local/lib/python3.10/dist-packages (from ray[tune]>=1.0.0->pycaret[full]) (1.3.1)\n",
            "Requirement already satisfied: frozenlist in /usr/local/lib/python3.10/dist-packages (from ray[tune]>=1.0.0->pycaret[full]) (1.4.0)\n",
            "Requirement already satisfied: grpcio>=1.42.0 in /usr/local/lib/python3.10/dist-packages (from ray[tune]>=1.0.0->pycaret[full]) (1.57.0)\n",
            "Requirement already satisfied: tensorboardX>=1.9 in /usr/local/lib/python3.10/dist-packages (from ray[tune]>=1.0.0->pycaret[full]) (2.6.2.2)\n",
            "Requirement already satisfied: charset-normalizer<4,>=2 in /usr/local/lib/python3.10/dist-packages (from requests>=2.27.1->pycaret[full]) (3.2.0)\n",
            "Requirement already satisfied: idna<4,>=2.5 in /usr/local/lib/python3.10/dist-packages (from requests>=2.27.1->pycaret[full]) (3.4)\n",
            "Requirement already satisfied: certifi>=2017.4.17 in /usr/local/lib/python3.10/dist-packages (from requests>=2.27.1->pycaret[full]) (2023.7.22)\n",
            "Requirement already satisfied: daal4py==2023.2.1 in /usr/local/lib/python3.10/dist-packages (from scikit-learn-intelex>=2023.0.1->pycaret[full]) (2023.2.1)\n",
            "Requirement already satisfied: daal==2023.2.1 in /usr/local/lib/python3.10/dist-packages (from daal4py==2023.2.1->scikit-learn-intelex>=2023.0.1->pycaret[full]) (2023.2.1)\n",
            "Requirement already satisfied: tbb==2021.* in /usr/local/lib/python3.10/dist-packages (from daal==2023.2.1->daal4py==2023.2.1->scikit-learn-intelex>=2023.0.1->pycaret[full]) (2021.10.0)\n",
            "Requirement already satisfied: pyaml>=16.9 in /usr/local/lib/python3.10/dist-packages (from scikit-optimize>=0.9.0->pycaret[full]) (23.7.0)\n",
            "Requirement already satisfied: slicer==0.0.7 in /usr/local/lib/python3.10/dist-packages (from shap>=0.38.0->pycaret[full]) (0.0.7)\n",
            "Requirement already satisfied: scikit-base<0.6.0 in /usr/local/lib/python3.10/dist-packages (from sktime!=0.17.1,!=0.17.2,!=0.18.0,>=0.16.1->pycaret[full]) (0.5.1)\n",
            "Requirement already satisfied: pynndescent>=0.5 in /usr/local/lib/python3.10/dist-packages (from umap-learn>=0.5.2->pycaret[full]) (0.5.10)\n",
            "Requirement already satisfied: h11>=0.8 in /usr/local/lib/python3.10/dist-packages (from uvicorn>=0.17.6->pycaret[full]) (0.14.0)\n",
            "Requirement already satisfied: retrying in /usr/local/lib/python3.10/dist-packages (from dash[testing]->pycaret[full]) (1.3.4)\n",
            "Requirement already satisfied: ansi2html in /usr/local/lib/python3.10/dist-packages (from dash[testing]->pycaret[full]) (1.8.0)\n",
            "Requirement already satisfied: nest-asyncio in /usr/local/lib/python3.10/dist-packages (from dash[testing]->pycaret[full]) (1.5.7)\n",
            "Requirement already satisfied: lxml>=4.6.2 in /usr/local/lib/python3.10/dist-packages (from dash[testing]->pycaret[full]) (4.9.3)\n",
            "Requirement already satisfied: percy>=2.0.2 in /usr/local/lib/python3.10/dist-packages (from dash[testing]->pycaret[full]) (2.0.2)\n",
            "Requirement already satisfied: selenium<=4.2.0,>=3.141.0 in /usr/local/lib/python3.10/dist-packages (from dash[testing]->pycaret[full]) (4.2.0)\n",
            "Requirement already satisfied: multiprocess>=0.70.12 in /usr/local/lib/python3.10/dist-packages (from dash[testing]->pycaret[full]) (0.70.15)\n",
            "Requirement already satisfied: dash-testing-stub>=0.0.2 in /usr/local/lib/python3.10/dist-packages (from dash[testing]->pycaret[full]) (0.0.2)\n",
            "Requirement already satisfied: attrs>=17.3.0 in /usr/local/lib/python3.10/dist-packages (from aiohttp~=3.0->gradio>=2.8.10->pycaret[full]) (23.1.0)\n",
            "Requirement already satisfied: multidict<7.0,>=4.5 in /usr/local/lib/python3.10/dist-packages (from aiohttp~=3.0->gradio>=2.8.10->pycaret[full]) (6.0.4)\n",
            "Requirement already satisfied: async-timeout<5.0,>=4.0.0a3 in /usr/local/lib/python3.10/dist-packages (from aiohttp~=3.0->gradio>=2.8.10->pycaret[full]) (4.0.3)\n",
            "Requirement already satisfied: yarl<2.0,>=1.0 in /usr/local/lib/python3.10/dist-packages (from aiohttp~=3.0->gradio>=2.8.10->pycaret[full]) (1.9.2)\n",
            "Requirement already satisfied: Mako in /usr/local/lib/python3.10/dist-packages (from alembic<2->mlflow<2.0.0,>=1.24.0->pycaret[full]) (1.2.4)\n",
            "Requirement already satisfied: toolz in /usr/local/lib/python3.10/dist-packages (from altair<6.0,>=4.2.0->gradio>=2.8.10->pycaret[full]) (0.12.0)\n",
            "Requirement already satisfied: soupsieve>1.2 in /usr/local/lib/python3.10/dist-packages (from beautifulsoup4>=4.11.1->deepchecks>=0.9.2->pycaret[full]) (2.4.1)\n",
            "Requirement already satisfied: cffi>=1.12 in /usr/local/lib/python3.10/dist-packages (from cryptography>=3.3.1->moto>=3.0.7->pycaret[full]) (1.15.1)\n",
            "Requirement already satisfied: partd>=1.2.0 in /usr/local/lib/python3.10/dist-packages (from dask[dataframe,distributed]<2023.7.1,>=2022.9.0->fugue>=0.8.0->pycaret[full]) (1.4.0)\n",
            "Requirement already satisfied: distributed==2023.7.0 in /usr/local/lib/python3.10/dist-packages (from dask[dataframe,distributed]<2023.7.1,>=2022.9.0->fugue>=0.8.0->pycaret[full]) (2023.7.0)\n",
            "Requirement already satisfied: locket>=1.0.0 in /usr/local/lib/python3.10/dist-packages (from distributed==2023.7.0->dask[dataframe,distributed]<2023.7.1,>=2022.9.0->fugue>=0.8.0->pycaret[full]) (1.0.0)\n",
            "Requirement already satisfied: sortedcontainers>=2.0.5 in /usr/local/lib/python3.10/dist-packages (from distributed==2023.7.0->dask[dataframe,distributed]<2023.7.1,>=2022.9.0->fugue>=0.8.0->pycaret[full]) (2.4.0)\n",
            "Requirement already satisfied: tblib>=1.6.0 in /usr/local/lib/python3.10/dist-packages (from distributed==2023.7.0->dask[dataframe,distributed]<2023.7.1,>=2022.9.0->fugue>=0.8.0->pycaret[full]) (2.0.0)\n",
            "Requirement already satisfied: zict>=2.2.0 in /usr/local/lib/python3.10/dist-packages (from distributed==2023.7.0->dask[dataframe,distributed]<2023.7.1,>=2022.9.0->fugue>=0.8.0->pycaret[full]) (3.0.0)\n",
            "Requirement already satisfied: pyjwt>=1.7.0 in /usr/lib/python3/dist-packages (from databricks-cli<1,>=0.8.7->mlflow<2.0.0,>=1.24.0->pycaret[full]) (2.3.0)\n",
            "Requirement already satisfied: oauthlib>=3.1.0 in /usr/local/lib/python3.10/dist-packages (from databricks-cli<1,>=0.8.7->mlflow<2.0.0,>=1.24.0->pycaret[full]) (3.2.2)\n",
            "Requirement already satisfied: tabulate>=0.7.7 in /usr/local/lib/python3.10/dist-packages (from databricks-cli<1,>=0.8.7->mlflow<2.0.0,>=1.24.0->pycaret[full]) (0.9.0)\n",
            "Requirement already satisfied: websocket-client>=0.32.0 in /usr/local/lib/python3.10/dist-packages (from docker<7,>=4.0.0->mlflow<2.0.0,>=1.24.0->pycaret[full]) (1.6.1)\n",
            "Requirement already satisfied: colour in /usr/local/lib/python3.10/dist-packages (from dtreeviz>=2.1->explainerdashboard>=0.3.8->pycaret[full]) (0.1.5)\n",
            "Requirement already satisfied: WTForms in /usr/local/lib/python3.10/dist-packages (from Flask-WTF>=1.1->explainerdashboard>=0.3.8->pycaret[full]) (3.0.1)\n",
            "Requirement already satisfied: antlr4-python3-runtime<4.12,>=4.11.1 in /usr/local/lib/python3.10/dist-packages (from fugue-sql-antlr>=0.1.6->fugue>=0.8.0->pycaret[full]) (4.11.1)\n",
            "Requirement already satisfied: gitdb<5,>=4.0.1 in /usr/local/lib/python3.10/dist-packages (from gitpython<4,>=2.1.0->mlflow<2.0.0,>=1.24.0->pycaret[full]) (4.0.10)\n",
            "Requirement already satisfied: param<2.0,>=1.9.3 in /usr/local/lib/python3.10/dist-packages (from holoviews~=1.14.9->autoviz>=0.1.36->pycaret[full]) (1.13.0)\n",
            "Requirement already satisfied: pyviz-comms>=0.7.4 in /usr/local/lib/python3.10/dist-packages (from holoviews~=1.14.9->autoviz>=0.1.36->pycaret[full]) (3.0.0)\n",
            "Requirement already satisfied: colorcet in /usr/local/lib/python3.10/dist-packages (from holoviews~=1.14.9->autoviz>=0.1.36->pycaret[full]) (3.0.1)\n",
            "Requirement already satisfied: jupyter-client in /usr/local/lib/python3.10/dist-packages (from ipykernel>=5.3.0->deepchecks>=0.9.2->pycaret[full]) (6.1.12)\n",
            "Requirement already satisfied: parso<0.9.0,>=0.8.3 in /usr/local/lib/python3.10/dist-packages (from jedi>=0.16->ipython>=5.5.0->pycaret[full]) (0.8.3)\n",
            "Requirement already satisfied: jsonschema-specifications>=2023.03.6 in /usr/local/lib/python3.10/dist-packages (from jsonschema>=2.6->nbformat>=4.2.0->pycaret[full]) (2023.7.1)\n",
            "Requirement already satisfied: referencing>=0.28.4 in /usr/local/lib/python3.10/dist-packages (from jsonschema>=2.6->nbformat>=4.2.0->pycaret[full]) (0.30.2)\n",
            "Requirement already satisfied: rpds-py>=0.7.1 in /usr/local/lib/python3.10/dist-packages (from jsonschema>=2.6->nbformat>=4.2.0->pycaret[full]) (0.9.2)\n",
            "Requirement already satisfied: mdurl~=0.1 in /usr/local/lib/python3.10/dist-packages (from markdown-it-py[linkify]>=2.0.0->gradio>=2.8.10->pycaret[full]) (0.1.2)\n",
            "Requirement already satisfied: linkify-it-py<3,>=1 in /usr/local/lib/python3.10/dist-packages (from markdown-it-py[linkify]>=2.0.0->gradio>=2.8.10->pycaret[full]) (2.0.2)\n",
            "Requirement already satisfied: regex>=2021.8.3 in /usr/local/lib/python3.10/dist-packages (from nltk->autoviz>=0.1.36->pycaret[full]) (2023.6.3)\n",
            "Requirement already satisfied: markdown in /usr/local/lib/python3.10/dist-packages (from panel>=0.12.6->autoviz>=0.1.36->pycaret[full]) (3.4.4)\n",
            "Requirement already satisfied: pyct>=0.4.4 in /usr/local/lib/python3.10/dist-packages (from panel>=0.12.6->autoviz>=0.1.36->pycaret[full]) (0.5.0)\n",
            "Requirement already satisfied: bleach in /usr/local/lib/python3.10/dist-packages (from panel>=0.12.6->autoviz>=0.1.36->pycaret[full]) (6.0.0)\n",
            "Requirement already satisfied: ptyprocess>=0.5 in /usr/local/lib/python3.10/dist-packages (from pexpect>4.3->ipython>=5.5.0->pycaret[full]) (0.7.0)\n",
            "Requirement already satisfied: prometheus-client in /usr/local/lib/python3.10/dist-packages (from prometheus-flask-exporter<1->mlflow<2.0.0,>=1.24.0->pycaret[full]) (0.17.1)\n",
            "Requirement already satisfied: wcwidth in /usr/local/lib/python3.10/dist-packages (from prompt-toolkit!=3.0.0,!=3.0.1,<3.1.0,>=2.0.0->ipython>=5.5.0->pycaret[full]) (0.2.6)\n",
            "Requirement already satisfied: python-utils in /usr/local/lib/python3.10/dist-packages (from PyNomaly>=0.3.3->deepchecks>=0.9.2->pycaret[full]) (3.7.0)\n",
            "Requirement already satisfied: types-PyYAML in /usr/local/lib/python3.10/dist-packages (from responses>=0.13.0->moto>=3.0.7->pycaret[full]) (6.0.12.11)\n",
            "Requirement already satisfied: trio~=0.17 in /usr/local/lib/python3.10/dist-packages (from selenium<=4.2.0,>=3.141.0->dash[testing]->pycaret[full]) (0.22.2)\n",
            "Requirement already satisfied: trio-websocket~=0.9 in /usr/local/lib/python3.10/dist-packages (from selenium<=4.2.0,>=3.141.0->dash[testing]->pycaret[full]) (0.10.3)\n",
            "Requirement already satisfied: greenlet!=0.4.17 in /usr/local/lib/python3.10/dist-packages (from sqlalchemy<2,>=1.4.0->mlflow<2.0.0,>=1.24.0->pycaret[full]) (2.0.2)\n",
            "Requirement already satisfied: anyio<5,>=3.4.0 in /usr/local/lib/python3.10/dist-packages (from starlette<0.28.0,>=0.27.0->fastapi>=0.75.0->pycaret[full]) (3.7.1)\n",
            "Requirement already satisfied: fs in /usr/local/lib/python3.10/dist-packages (from triad>=0.9.1->fugue>=0.8.0->pycaret[full]) (2.4.16)\n",
            "Requirement already satisfied: notebook>=4.4.1 in /usr/local/lib/python3.10/dist-packages (from widgetsnbextension~=3.6.0->ipywidgets>=7.6.5->pycaret[full]) (6.5.5)\n",
            "Requirement already satisfied: httpcore<0.18.0,>=0.15.0 in /usr/local/lib/python3.10/dist-packages (from httpx->gradio>=2.8.10->pycaret[full]) (0.17.3)\n",
            "Requirement already satisfied: sniffio in /usr/local/lib/python3.10/dist-packages (from httpx->gradio>=2.8.10->pycaret[full]) (1.3.0)\n",
            "Requirement already satisfied: qtconsole in /usr/local/lib/python3.10/dist-packages (from jupyter->autoviz>=0.1.36->pycaret[full]) (5.4.3)\n",
            "Requirement already satisfied: jupyter-console in /usr/local/lib/python3.10/dist-packages (from jupyter->autoviz>=0.1.36->pycaret[full]) (6.1.0)\n",
            "Requirement already satisfied: nbconvert in /usr/local/lib/python3.10/dist-packages (from jupyter->autoviz>=0.1.36->pycaret[full]) (6.5.4)\n",
            "Requirement already satisfied: platformdirs>=2.5 in /usr/local/lib/python3.10/dist-packages (from jupyter-core->nbformat>=4.2.0->pycaret[full]) (3.10.0)\n",
            "Requirement already satisfied: visions[type_image_path]==0.7.5 in /usr/local/lib/python3.10/dist-packages (from ydata-profiling->pandas-profiling>=3.1.0->pycaret[full]) (0.7.5)\n",
            "Requirement already satisfied: htmlmin==0.1.12 in /usr/local/lib/python3.10/dist-packages (from ydata-profiling->pandas-profiling>=3.1.0->pycaret[full]) (0.1.12)\n",
            "Requirement already satisfied: phik<0.13,>=0.11.1 in /usr/local/lib/python3.10/dist-packages (from ydata-profiling->pandas-profiling>=3.1.0->pycaret[full]) (0.12.3)\n",
            "Requirement already satisfied: multimethod<2,>=1.4 in /usr/local/lib/python3.10/dist-packages (from ydata-profiling->pandas-profiling>=3.1.0->pycaret[full]) (1.9.1)\n",
            "Requirement already satisfied: typeguard<3,>=2.13.2 in /usr/local/lib/python3.10/dist-packages (from ydata-profiling->pandas-profiling>=3.1.0->pycaret[full]) (2.13.3)\n",
            "Requirement already satisfied: imagehash==4.3.1 in /usr/local/lib/python3.10/dist-packages (from ydata-profiling->pandas-profiling>=3.1.0->pycaret[full]) (4.3.1)\n",
            "Requirement already satisfied: dacite>=1.8 in /usr/local/lib/python3.10/dist-packages (from ydata-profiling->pandas-profiling>=3.1.0->pycaret[full]) (1.8.1)\n",
            "Requirement already satisfied: PyWavelets in /usr/local/lib/python3.10/dist-packages (from imagehash==4.3.1->ydata-profiling->pandas-profiling>=3.1.0->pycaret[full]) (1.4.1)\n",
            "Requirement already satisfied: tangled-up-in-unicode>=0.0.4 in /usr/local/lib/python3.10/dist-packages (from visions[type_image_path]==0.7.5->ydata-profiling->pandas-profiling>=3.1.0->pycaret[full]) (0.2.0)\n",
            "Requirement already satisfied: pycparser in /usr/local/lib/python3.10/dist-packages (from cffi>=1.12->cryptography>=3.3.1->moto>=3.0.7->pycaret[full]) (2.21)\n",
            "Requirement already satisfied: zope.event in /usr/local/lib/python3.10/dist-packages (from gevent>=1.3.6->interpret-core[dash,debug,decisiontree,ebm,lime,linear,notebook,plotly,required,sensitivity,shap,skoperules,treeinterpreter]==0.4.3->interpret>=0.2.7->pycaret[full]) (5.0)\n",
            "Requirement already satisfied: zope.interface in /usr/local/lib/python3.10/dist-packages (from gevent>=1.3.6->interpret-core[dash,debug,decisiontree,ebm,lime,linear,notebook,plotly,required,sensitivity,shap,skoperules,treeinterpreter]==0.4.3->interpret>=0.2.7->pycaret[full]) (6.0)\n",
            "Requirement already satisfied: smmap<6,>=3.0.1 in /usr/local/lib/python3.10/dist-packages (from gitdb<5,>=4.0.1->gitpython<4,>=2.1.0->mlflow<2.0.0,>=1.24.0->pycaret[full]) (5.0.0)\n",
            "Requirement already satisfied: scikit-image>=0.12 in /usr/local/lib/python3.10/dist-packages (from lime>=0.1.1.33->interpret-core[dash,debug,decisiontree,ebm,lime,linear,notebook,plotly,required,sensitivity,shap,skoperules,treeinterpreter]==0.4.3->interpret>=0.2.7->pycaret[full]) (0.19.3)\n",
            "Requirement already satisfied: uc-micro-py in /usr/local/lib/python3.10/dist-packages (from linkify-it-py<3,>=1->markdown-it-py[linkify]>=2.0.0->gradio>=2.8.10->pycaret[full]) (1.0.2)\n",
            "Requirement already satisfied: argon2-cffi in /usr/local/lib/python3.10/dist-packages (from notebook>=4.4.1->widgetsnbextension~=3.6.0->ipywidgets>=7.6.5->pycaret[full]) (23.1.0)\n",
            "Requirement already satisfied: Send2Trash>=1.8.0 in /usr/local/lib/python3.10/dist-packages (from notebook>=4.4.1->widgetsnbextension~=3.6.0->ipywidgets>=7.6.5->pycaret[full]) (1.8.2)\n",
            "Requirement already satisfied: terminado>=0.8.3 in /usr/local/lib/python3.10/dist-packages (from notebook>=4.4.1->widgetsnbextension~=3.6.0->ipywidgets>=7.6.5->pycaret[full]) (0.17.1)\n",
            "Requirement already satisfied: nbclassic>=0.4.7 in /usr/local/lib/python3.10/dist-packages (from notebook>=4.4.1->widgetsnbextension~=3.6.0->ipywidgets>=7.6.5->pycaret[full]) (1.0.0)\n",
            "Requirement already satisfied: defusedxml in /usr/local/lib/python3.10/dist-packages (from nbconvert->jupyter->autoviz>=0.1.36->pycaret[full]) (0.7.1)\n",
            "Requirement already satisfied: jupyterlab-pygments in /usr/local/lib/python3.10/dist-packages (from nbconvert->jupyter->autoviz>=0.1.36->pycaret[full]) (0.2.2)\n",
            "Requirement already satisfied: mistune<2,>=0.8.1 in /usr/local/lib/python3.10/dist-packages (from nbconvert->jupyter->autoviz>=0.1.36->pycaret[full]) (0.8.4)\n",
            "Requirement already satisfied: nbclient>=0.5.0 in /usr/local/lib/python3.10/dist-packages (from nbconvert->jupyter->autoviz>=0.1.36->pycaret[full]) (0.8.0)\n",
            "Requirement already satisfied: pandocfilters>=1.4.1 in /usr/local/lib/python3.10/dist-packages (from nbconvert->jupyter->autoviz>=0.1.36->pycaret[full]) (1.5.0)\n",
            "Requirement already satisfied: tinycss2 in /usr/local/lib/python3.10/dist-packages (from nbconvert->jupyter->autoviz>=0.1.36->pycaret[full]) (1.2.1)\n",
            "Requirement already satisfied: outcome in /usr/local/lib/python3.10/dist-packages (from trio~=0.17->selenium<=4.2.0,>=3.141.0->dash[testing]->pycaret[full]) (1.2.0)\n",
            "Requirement already satisfied: wsproto>=0.14 in /usr/local/lib/python3.10/dist-packages (from trio-websocket~=0.9->selenium<=4.2.0,>=3.141.0->dash[testing]->pycaret[full]) (1.2.0)\n",
            "Requirement already satisfied: pyOpenSSL>=0.14 in /usr/local/lib/python3.10/dist-packages (from urllib3->pmdarima!=1.8.1,<3.0.0,>=1.8.0->pycaret[full]) (23.2.0)\n",
            "Requirement already satisfied: urllib3-secure-extra in /usr/local/lib/python3.10/dist-packages (from urllib3->pmdarima!=1.8.1,<3.0.0,>=1.8.0->pycaret[full]) (0.1.0)\n",
            "Requirement already satisfied: PySocks!=1.5.7,<2.0,>=1.5.6 in /usr/local/lib/python3.10/dist-packages (from urllib3->pmdarima!=1.8.1,<3.0.0,>=1.8.0->pycaret[full]) (1.7.1)\n",
            "Requirement already satisfied: webencodings in /usr/local/lib/python3.10/dist-packages (from bleach->panel>=0.12.6->autoviz>=0.1.36->pycaret[full]) (0.5.1)\n",
            "Requirement already satisfied: appdirs~=1.4.3 in /usr/local/lib/python3.10/dist-packages (from fs->triad>=0.9.1->fugue>=0.8.0->pycaret[full]) (1.4.4)\n",
            "Requirement already satisfied: qtpy>=2.0.1 in /usr/local/lib/python3.10/dist-packages (from qtconsole->jupyter->autoviz>=0.1.36->pycaret[full]) (2.3.1)\n",
            "Requirement already satisfied: jupyter-server>=1.8 in /usr/local/lib/python3.10/dist-packages (from nbclassic>=0.4.7->notebook>=4.4.1->widgetsnbextension~=3.6.0->ipywidgets>=7.6.5->pycaret[full]) (1.24.0)\n",
            "Requirement already satisfied: notebook-shim>=0.2.3 in /usr/local/lib/python3.10/dist-packages (from nbclassic>=0.4.7->notebook>=4.4.1->widgetsnbextension~=3.6.0->ipywidgets>=7.6.5->pycaret[full]) (0.2.3)\n",
            "Requirement already satisfied: imageio>=2.4.1 in /usr/local/lib/python3.10/dist-packages (from scikit-image>=0.12->lime>=0.1.1.33->interpret-core[dash,debug,decisiontree,ebm,lime,linear,notebook,plotly,required,sensitivity,shap,skoperules,treeinterpreter]==0.4.3->interpret>=0.2.7->pycaret[full]) (2.31.1)\n",
            "Requirement already satisfied: tifffile>=2019.7.26 in /usr/local/lib/python3.10/dist-packages (from scikit-image>=0.12->lime>=0.1.1.33->interpret-core[dash,debug,decisiontree,ebm,lime,linear,notebook,plotly,required,sensitivity,shap,skoperules,treeinterpreter]==0.4.3->interpret>=0.2.7->pycaret[full]) (2023.8.12)\n",
            "Requirement already satisfied: argon2-cffi-bindings in /usr/local/lib/python3.10/dist-packages (from argon2-cffi->notebook>=4.4.1->widgetsnbextension~=3.6.0->ipywidgets>=7.6.5->pycaret[full]) (21.2.0)\n"
          ]
        }
      ],
      "source": [
        "pip install pycaret[full]"
      ]
    },
    {
      "cell_type": "code",
      "source": [
        "import pandas as pd\n",
        "\n",
        "# Load your dataset into a pandas DataFrame\n",
        "# Replace 'your_dataset.csv' with the actual path to your dataset file\n",
        "df = pd.read_csv('kidney.csv')\n",
        "\n",
        "# Calculate the percentage of null values in each column\n",
        "null_percentages = (df.isnull().sum() / len(df)) * 100\n",
        "\n",
        "# Create a new DataFrame to display the results\n",
        "null_percentage_df = pd.DataFrame({'Column': df.columns, 'Null Percentage': null_percentages})\n",
        "\n",
        "# Print the DataFrame showing null value percentages\n",
        "print(null_percentage_df)\n"
      ],
      "metadata": {
        "colab": {
          "base_uri": "https://localhost:8080/"
        },
        "id": "8encqh2nPBWr",
        "outputId": "d0706334-be44-4bdd-8603-13c1ed4de114"
      },
      "execution_count": null,
      "outputs": [
        {
          "output_type": "stream",
          "name": "stdout",
          "text": [
            "      Column  Null Percentage\n",
            "age      age             2.25\n",
            "bp        bp             3.00\n",
            "sg        sg            11.75\n",
            "al        al            11.50\n",
            "su        su            12.25\n",
            "rbc      rbc            38.00\n",
            "pc        pc            16.25\n",
            "pcc      pcc             1.00\n",
            "ba        ba             1.00\n",
            "bgr      bgr            11.00\n",
            "bu        bu             4.75\n",
            "sc        sc             4.25\n",
            "sod      sod            21.75\n",
            "pot      pot            22.00\n",
            "hemo    hemo            13.00\n",
            "pcv      pcv            17.75\n",
            "wbcc    wbcc            26.50\n",
            "rbcc    rbcc            32.75\n",
            "htn      htn             0.50\n",
            "dm        dm             0.50\n",
            "cad      cad             0.50\n",
            "appet  appet             0.25\n",
            "pe        pe             0.25\n",
            "ane      ane             0.25\n",
            "class  class             0.00\n"
          ]
        }
      ]
    },
    {
      "cell_type": "code",
      "source": [
        "# Convert 'ckd' to 1 and 'notckd' to 0\n",
        "df['class'] = df['class'].apply(lambda x: 1 if x == 'ckd' else 0)\n",
        "df['rbc'] = df['rbc'].apply(lambda x: 1 if x == 'abnormal' else 0)\n",
        "df['pcc'] = df['pcc'].apply(lambda x: 1 if x == 'present' else 0)\n",
        "df['pc'] = df['pc'].apply(lambda x: 1 if x == 'abnormal' else 0)\n",
        "df['ba'] = df['ba'].apply(lambda x: 1 if x == 'present' else 0)\n",
        "df['htn'] = df['htn'].apply(lambda x: 1 if x == 'yes' else 0)\n",
        "df['dm'] = df['dm'].apply(lambda x: 1 if x == 'yes' else 0)\n",
        "df['cad'] = df['cad'].apply(lambda x: 1 if x == 'yes' else 0)\n",
        "df['appet'] = df['appet'].apply(lambda x: 1 if x == 'poor' else 0)\n",
        "df['pe'] = df['pe'].apply(lambda x: 1 if x == 'yes' else 0)\n",
        "df['ane'] = df['ane'].apply(lambda x: 1 if x == 'yes' else 0)"
      ],
      "metadata": {
        "id": "m4mO1UOYiigO"
      },
      "execution_count": null,
      "outputs": []
    },
    {
      "cell_type": "code",
      "source": [
        "import pandas as pd\n",
        "\n",
        "# Assuming you have a DataFrame named 'df' with a column named 'class'\n",
        "# containing values 0 and 1\n",
        "\n",
        "# Count the occurrences of 1s and 0s in the 'class' column\n",
        "counts = df['class'].value_counts()\n",
        "\n",
        "# Calculate the percentage\n",
        "total_count = len(df)\n",
        "percentage_1 = (counts[1] / total_count) * 100\n",
        "percentage_0 = (counts[0] / total_count) * 100\n",
        "\n",
        "print(f\"Percentage of 1s: {percentage_1:.2f}%\")\n",
        "print(f\"Percentage of 0s: {percentage_0:.2f}%\")"
      ],
      "metadata": {
        "colab": {
          "base_uri": "https://localhost:8080/"
        },
        "id": "Bc8MTJzgFYl9",
        "outputId": "32fa75a6-b1e3-4ba1-e36f-63d7b15fecde"
      },
      "execution_count": null,
      "outputs": [
        {
          "output_type": "stream",
          "name": "stdout",
          "text": [
            "Percentage of 1s: 62.50%\n",
            "Percentage of 0s: 37.50%\n"
          ]
        }
      ]
    },
    {
      "cell_type": "code",
      "source": [
        "high_missing_cols = [\"rbc\", \"wbcc\", \"rbcc\"]\n",
        "df.drop(columns=high_missing_cols, inplace=True)\n",
        "\n",
        "# Columns to fill with average values\n",
        "columns_to_fill = [\"bgr\", \"bu\", \"sc\", \"sod\", \"pot\", \"hemo\", \"pcv\"]\n",
        "\n",
        "# Calculate the average value for each column\n",
        "column_averages = df[columns_to_fill].mean()\n",
        "\n",
        "# Fill missing values in the specified columns with their averages\n",
        "df[columns_to_fill] = df[columns_to_fill].fillna(column_averages)\n",
        "\n",
        "# Columns to fill with mode (most frequent value)\n",
        "columns_to_fill_mode = [\"htn\", \"dm\", \"cad\", \"appet\", \"pe\", \"ane\"]\n",
        "for col in columns_to_fill_mode:\n",
        "    mode_val = df[col].mode()[0]\n",
        "    df[col].fillna(mode_val, inplace=True)\n",
        "\n",
        "# Print the DataFrame after filling missing values\n",
        "print(df)\n"
      ],
      "metadata": {
        "colab": {
          "base_uri": "https://localhost:8080/"
        },
        "id": "ZuD4M7-Oi4SW",
        "outputId": "55b14998-7291-46cc-aa4b-2d4af76cba2a"
      },
      "execution_count": null,
      "outputs": [
        {
          "output_type": "stream",
          "name": "stdout",
          "text": [
            "      age    bp     sg   al   su  pc  pcc  ba         bgr    bu  ...  \\\n",
            "0    48.0  80.0  1.020  1.0  0.0   0    0   0  121.000000  36.0  ...   \n",
            "1     7.0  50.0  1.020  4.0  0.0   0    0   0  148.036517  18.0  ...   \n",
            "2    62.0  80.0  1.010  2.0  3.0   0    0   0  423.000000  53.0  ...   \n",
            "3    48.0  70.0  1.005  4.0  0.0   1    1   0  117.000000  56.0  ...   \n",
            "4    51.0  80.0  1.010  2.0  0.0   0    0   0  106.000000  26.0  ...   \n",
            "..    ...   ...    ...  ...  ...  ..  ...  ..         ...   ...  ...   \n",
            "395  55.0  80.0  1.020  0.0  0.0   0    0   0  140.000000  49.0  ...   \n",
            "396  42.0  70.0  1.025  0.0  0.0   0    0   0   75.000000  31.0  ...   \n",
            "397  12.0  80.0  1.020  0.0  0.0   0    0   0  100.000000  26.0  ...   \n",
            "398  17.0  60.0  1.025  0.0  0.0   0    0   0  114.000000  50.0  ...   \n",
            "399  58.0  80.0  1.025  0.0  0.0   0    0   0  131.000000  18.0  ...   \n",
            "\n",
            "          pot  hemo   pcv  htn  dm  cad  appet  pe  ane  class  \n",
            "0    4.627244  15.4  44.0    1   1    0      0   0    0      1  \n",
            "1    4.627244  11.3  38.0    0   0    0      0   0    0      1  \n",
            "2    4.627244   9.6  31.0    0   1    0      1   0    1      1  \n",
            "3    2.500000  11.2  32.0    1   0    0      1   1    1      1  \n",
            "4    4.627244  11.6  35.0    0   0    0      0   0    0      1  \n",
            "..        ...   ...   ...  ...  ..  ...    ...  ..  ...    ...  \n",
            "395  4.900000  15.7  47.0    0   0    0      0   0    0      0  \n",
            "396  3.500000  16.5  54.0    0   0    0      0   0    0      0  \n",
            "397  4.400000  15.8  49.0    0   0    0      0   0    0      0  \n",
            "398  4.900000  14.2  51.0    0   0    0      0   0    0      0  \n",
            "399  3.500000  15.8  53.0    0   0    0      0   0    0      0  \n",
            "\n",
            "[400 rows x 22 columns]\n"
          ]
        }
      ]
    },
    {
      "cell_type": "code",
      "source": [
        "# Replace all null values with 0\n",
        "df = df.fillna(0)"
      ],
      "metadata": {
        "id": "GzroExf8i9BW"
      },
      "execution_count": null,
      "outputs": []
    },
    {
      "cell_type": "code",
      "source": [
        "import numpy as np\n",
        "import pandas as pd\n",
        "from imblearn.over_sampling import SMOTE\n",
        "\n",
        "# Load your dataset\n",
        "# Replace 'path_to_your_dataset.csv' with the actual path to your dataset\n",
        "\n",
        "\n",
        "# Separate features and target variable\n",
        "X = df.drop('class', axis=1)  # Adjust 'target_column_name'\n",
        "y = df['class']\n",
        "\n",
        "# Apply SMOTE to balance the dataset\n",
        "smote = SMOTE(random_state=42)\n",
        "X_resampled, y_resampled = smote.fit_resample(X, y)\n",
        "\n",
        "# Now X_resampled and y_resampled contain the balanced dataset\n",
        "# You can use them to train your machine learning model\n"
      ],
      "metadata": {
        "id": "sYSWHTHDiQ19"
      },
      "execution_count": null,
      "outputs": []
    },
    {
      "cell_type": "code",
      "source": [
        "import pandas as pd\n",
        "from sklearn.impute import SimpleImputer\n",
        "\n",
        "\n",
        "# Columns to fill with average values\n",
        "columns_to_fill = [\"bgr\", \"bu\", \"sc\", \"sod\", \"pot\", \"hemo\", \"pcv\"]\n",
        "\n",
        "# Calculate the average value for each column\n",
        "column_averages = df[columns_to_fill].mean()\n",
        "\n",
        "# Fill missing values in the specified columns with their averages\n",
        "df[columns_to_fill] = df[columns_to_fill].fillna(column_averages)\n",
        "\n",
        "# Columns to fill with mode (most frequent value)\n",
        "columns_to_fill_mode = [\"htn\", \"dm\", \"cad\", \"appet\", \"pe\", \"ane\"]\n",
        "for col in columns_to_fill_mode:\n",
        "    mode_val = df[col].mode()[0]\n",
        "    df[col].fillna(mode_val, inplace=True)\n",
        "\n",
        "# Print the DataFrame after filling missing values\n",
        "print(df)\n",
        "\n",
        "# Columns with moderate missing value percentages (below 30%)\n",
        "#moderate_missing_cols = [\"bgr\", \"bu\", \"sc\", \"sod\", \"pot\", \"hemo\", \"pcv\", \"htn\", \"dm\", \"cad\", \"appet\", \"pe\", \"ane\"]\n",
        "#for col in moderate_missing_cols:\n",
        " #   if col in df.columns:\n",
        "  #      if df[col].dtype == \"object\":\n",
        " #           mode_val = df[col].mode()[0]\n",
        "  #          df[col].fillna(mode_val, inplace=True)\n",
        "  #      else:\n",
        "     #       median_val = df[col].median()\n",
        "      #      df[col].fillna(median_val, inplace=True)\n",
        "\n",
        "# Perform multiple imputation for selected columns if desired\n",
        "\n",
        "# Print the DataFrame after handling missing values\n",
        "#print(df)\n"
      ],
      "metadata": {
        "colab": {
          "base_uri": "https://localhost:8080/"
        },
        "id": "0Zl34hGnPt5Q",
        "outputId": "25e2ecd0-2f05-456e-94cf-d3caa508d206"
      },
      "execution_count": null,
      "outputs": [
        {
          "output_type": "stream",
          "name": "stdout",
          "text": [
            "      age    bp     sg   al   su  pc  pcc  ba         bgr    bu  ...  \\\n",
            "0    48.0  80.0  1.020  1.0  0.0   0    0   0  121.000000  36.0  ...   \n",
            "1     7.0  50.0  1.020  4.0  0.0   0    0   0  148.036517  18.0  ...   \n",
            "2    62.0  80.0  1.010  2.0  3.0   0    0   0  423.000000  53.0  ...   \n",
            "3    48.0  70.0  1.005  4.0  0.0   1    1   0  117.000000  56.0  ...   \n",
            "4    51.0  80.0  1.010  2.0  0.0   0    0   0  106.000000  26.0  ...   \n",
            "..    ...   ...    ...  ...  ...  ..  ...  ..         ...   ...  ...   \n",
            "395  55.0  80.0  1.020  0.0  0.0   0    0   0  140.000000  49.0  ...   \n",
            "396  42.0  70.0  1.025  0.0  0.0   0    0   0   75.000000  31.0  ...   \n",
            "397  12.0  80.0  1.020  0.0  0.0   0    0   0  100.000000  26.0  ...   \n",
            "398  17.0  60.0  1.025  0.0  0.0   0    0   0  114.000000  50.0  ...   \n",
            "399  58.0  80.0  1.025  0.0  0.0   0    0   0  131.000000  18.0  ...   \n",
            "\n",
            "          pot  hemo   pcv  htn  dm  cad  appet  pe  ane  class  \n",
            "0    4.627244  15.4  44.0    1   1    0      0   0    0      1  \n",
            "1    4.627244  11.3  38.0    0   0    0      0   0    0      1  \n",
            "2    4.627244   9.6  31.0    0   1    0      1   0    1      1  \n",
            "3    2.500000  11.2  32.0    1   0    0      1   1    1      1  \n",
            "4    4.627244  11.6  35.0    0   0    0      0   0    0      1  \n",
            "..        ...   ...   ...  ...  ..  ...    ...  ..  ...    ...  \n",
            "395  4.900000  15.7  47.0    0   0    0      0   0    0      0  \n",
            "396  3.500000  16.5  54.0    0   0    0      0   0    0      0  \n",
            "397  4.400000  15.8  49.0    0   0    0      0   0    0      0  \n",
            "398  4.900000  14.2  51.0    0   0    0      0   0    0      0  \n",
            "399  3.500000  15.8  53.0    0   0    0      0   0    0      0  \n",
            "\n",
            "[400 rows x 22 columns]\n"
          ]
        }
      ]
    },
    {
      "cell_type": "code",
      "source": [
        "# sample 5% of data to be used as unseen data\n",
        "data = df.sample(frac=0.8, random_state=786)\n",
        "data_unseen = df.drop(data.index)\n",
        "data.reset_index(inplace=True, drop=True)\n",
        "data_unseen.reset_index(inplace=True, drop=True)"
      ],
      "metadata": {
        "id": "JeRLoihsl2AP"
      },
      "execution_count": null,
      "outputs": []
    },
    {
      "cell_type": "code",
      "source": [
        "# print the revised shape\n",
        "print('Data for Modeling: ' + str(data.shape))\n",
        "print('Unseen Data For Predictions: ' + str(data_unseen.shape))"
      ],
      "metadata": {
        "colab": {
          "base_uri": "https://localhost:8080/"
        },
        "id": "sqjF5Cahl7P3",
        "outputId": "63e374a7-c2cd-4062-8888-c739c49d259b"
      },
      "execution_count": null,
      "outputs": [
        {
          "output_type": "stream",
          "name": "stdout",
          "text": [
            "Data for Modeling: (320, 22)\n",
            "Unseen Data For Predictions: (80, 22)\n"
          ]
        }
      ]
    },
    {
      "cell_type": "code",
      "source": [
        "import pandas as pd\n",
        "from sklearn.model_selection import train_test_split\n",
        "from sklearn.ensemble import ExtraTreesClassifier\n",
        "from sklearn.metrics import accuracy_score\n",
        "\n",
        "\n",
        "# Separate features and target\n",
        "X = df.drop('class', axis=1)\n",
        "y = df['class']\n",
        "\n",
        "# Split the dataset into training and testing sets\n",
        "X_train, X_test, y_train, y_test = train_test_split(X, y, test_size=0.2, random_state=42)\n",
        "\n",
        "# Initialize the Extra Trees Classifier\n",
        "model = ExtraTreesClassifier(random_state=42)\n",
        "\n",
        "# Train the model\n",
        "model.fit(X_train, y_train)\n",
        "\n",
        "# Make predictions\n",
        "y_pred = model.predict(X_test)\n",
        "\n",
        "# Calculate accuracy\n",
        "accuracy = accuracy_score(y_test, y_pred)\n",
        "print(f\"Accuracy: {accuracy:.2f}\")\n"
      ],
      "metadata": {
        "colab": {
          "base_uri": "https://localhost:8080/"
        },
        "id": "hAyiLj-auzj-",
        "outputId": "086f527f-2e5d-4e96-f427-1aabce6d715b"
      },
      "execution_count": null,
      "outputs": [
        {
          "output_type": "stream",
          "name": "stdout",
          "text": [
            "Accuracy: 1.00\n"
          ]
        }
      ]
    },
    {
      "cell_type": "code",
      "source": [
        "import pandas as pd\n",
        "\n",
        "# Assuming you have a DataFrame named 'df' with a column named 'class'\n",
        "# containing values 0 and 1\n",
        "\n",
        "# Example DataFrame\n",
        "#data = {'class': [1, 0, 1, 1, 0, 0, 1, 1, 0, 1]}\n",
        "#df = pd.DataFrame(data)\n",
        "\n",
        "# Count the occurrences of 1s and 0s in the 'class' column\n",
        "counts = df['class'].value_counts()\n",
        "\n",
        "# Calculate the percentage\n",
        "total_count = len(df)\n",
        "percentage_1 = (counts[1] / total_count) * 100\n",
        "percentage_0 = (counts[0] / total_count) * 100\n",
        "\n",
        "print(f\"Percentage of 1s: {percentage_1:.2f}%\")\n",
        "print(f\"Percentage of 0s: {percentage_0:.2f}%\")\n"
      ],
      "metadata": {
        "colab": {
          "base_uri": "https://localhost:8080/",
          "height": 390
        },
        "id": "JixxsSyV-qZ-",
        "outputId": "0603ec38-38cb-48b6-ec24-c4cc7f0e7000"
      },
      "execution_count": null,
      "outputs": [
        {
          "output_type": "error",
          "ename": "KeyError",
          "evalue": "ignored",
          "traceback": [
            "\u001b[0;31m---------------------------------------------------------------------------\u001b[0m",
            "\u001b[0;31mKeyError\u001b[0m                                  Traceback (most recent call last)",
            "\u001b[0;32m<ipython-input-16-d8e7768a1b88>\u001b[0m in \u001b[0;36m<cell line: 11>\u001b[0;34m()\u001b[0m\n\u001b[1;32m      9\u001b[0m \u001b[0;34m\u001b[0m\u001b[0m\n\u001b[1;32m     10\u001b[0m \u001b[0;31m# Count the occurrences of 1s and 0s in the 'class' column\u001b[0m\u001b[0;34m\u001b[0m\u001b[0;34m\u001b[0m\u001b[0m\n\u001b[0;32m---> 11\u001b[0;31m \u001b[0mcounts\u001b[0m \u001b[0;34m=\u001b[0m \u001b[0mdf\u001b[0m\u001b[0;34m[\u001b[0m\u001b[0;34m'class'\u001b[0m\u001b[0;34m]\u001b[0m\u001b[0;34m.\u001b[0m\u001b[0mvalue_counts\u001b[0m\u001b[0;34m(\u001b[0m\u001b[0;34m)\u001b[0m\u001b[0;34m\u001b[0m\u001b[0;34m\u001b[0m\u001b[0m\n\u001b[0m\u001b[1;32m     12\u001b[0m \u001b[0;34m\u001b[0m\u001b[0m\n\u001b[1;32m     13\u001b[0m \u001b[0;31m# Calculate the percentage\u001b[0m\u001b[0;34m\u001b[0m\u001b[0;34m\u001b[0m\u001b[0m\n",
            "\u001b[0;32m/usr/local/lib/python3.10/dist-packages/pandas/core/frame.py\u001b[0m in \u001b[0;36m__getitem__\u001b[0;34m(self, key)\u001b[0m\n\u001b[1;32m   3805\u001b[0m             \u001b[0;32mif\u001b[0m \u001b[0mself\u001b[0m\u001b[0;34m.\u001b[0m\u001b[0mcolumns\u001b[0m\u001b[0;34m.\u001b[0m\u001b[0mnlevels\u001b[0m \u001b[0;34m>\u001b[0m \u001b[0;36m1\u001b[0m\u001b[0;34m:\u001b[0m\u001b[0;34m\u001b[0m\u001b[0;34m\u001b[0m\u001b[0m\n\u001b[1;32m   3806\u001b[0m                 \u001b[0;32mreturn\u001b[0m \u001b[0mself\u001b[0m\u001b[0;34m.\u001b[0m\u001b[0m_getitem_multilevel\u001b[0m\u001b[0;34m(\u001b[0m\u001b[0mkey\u001b[0m\u001b[0;34m)\u001b[0m\u001b[0;34m\u001b[0m\u001b[0;34m\u001b[0m\u001b[0m\n\u001b[0;32m-> 3807\u001b[0;31m             \u001b[0mindexer\u001b[0m \u001b[0;34m=\u001b[0m \u001b[0mself\u001b[0m\u001b[0;34m.\u001b[0m\u001b[0mcolumns\u001b[0m\u001b[0;34m.\u001b[0m\u001b[0mget_loc\u001b[0m\u001b[0;34m(\u001b[0m\u001b[0mkey\u001b[0m\u001b[0;34m)\u001b[0m\u001b[0;34m\u001b[0m\u001b[0;34m\u001b[0m\u001b[0m\n\u001b[0m\u001b[1;32m   3808\u001b[0m             \u001b[0;32mif\u001b[0m \u001b[0mis_integer\u001b[0m\u001b[0;34m(\u001b[0m\u001b[0mindexer\u001b[0m\u001b[0;34m)\u001b[0m\u001b[0;34m:\u001b[0m\u001b[0;34m\u001b[0m\u001b[0;34m\u001b[0m\u001b[0m\n\u001b[1;32m   3809\u001b[0m                 \u001b[0mindexer\u001b[0m \u001b[0;34m=\u001b[0m \u001b[0;34m[\u001b[0m\u001b[0mindexer\u001b[0m\u001b[0;34m]\u001b[0m\u001b[0;34m\u001b[0m\u001b[0;34m\u001b[0m\u001b[0m\n",
            "\u001b[0;32m/usr/local/lib/python3.10/dist-packages/pandas/core/indexes/range.py\u001b[0m in \u001b[0;36mget_loc\u001b[0;34m(self, key, method, tolerance)\u001b[0m\n\u001b[1;32m    393\u001b[0m                     \u001b[0;32mraise\u001b[0m \u001b[0mKeyError\u001b[0m\u001b[0;34m(\u001b[0m\u001b[0mkey\u001b[0m\u001b[0;34m)\u001b[0m \u001b[0;32mfrom\u001b[0m \u001b[0merr\u001b[0m\u001b[0;34m\u001b[0m\u001b[0;34m\u001b[0m\u001b[0m\n\u001b[1;32m    394\u001b[0m             \u001b[0mself\u001b[0m\u001b[0;34m.\u001b[0m\u001b[0m_check_indexing_error\u001b[0m\u001b[0;34m(\u001b[0m\u001b[0mkey\u001b[0m\u001b[0;34m)\u001b[0m\u001b[0;34m\u001b[0m\u001b[0;34m\u001b[0m\u001b[0m\n\u001b[0;32m--> 395\u001b[0;31m             \u001b[0;32mraise\u001b[0m \u001b[0mKeyError\u001b[0m\u001b[0;34m(\u001b[0m\u001b[0mkey\u001b[0m\u001b[0;34m)\u001b[0m\u001b[0;34m\u001b[0m\u001b[0;34m\u001b[0m\u001b[0m\n\u001b[0m\u001b[1;32m    396\u001b[0m         \u001b[0;32mreturn\u001b[0m \u001b[0msuper\u001b[0m\u001b[0;34m(\u001b[0m\u001b[0;34m)\u001b[0m\u001b[0;34m.\u001b[0m\u001b[0mget_loc\u001b[0m\u001b[0;34m(\u001b[0m\u001b[0mkey\u001b[0m\u001b[0;34m,\u001b[0m \u001b[0mmethod\u001b[0m\u001b[0;34m=\u001b[0m\u001b[0mmethod\u001b[0m\u001b[0;34m,\u001b[0m \u001b[0mtolerance\u001b[0m\u001b[0;34m=\u001b[0m\u001b[0mtolerance\u001b[0m\u001b[0;34m)\u001b[0m\u001b[0;34m\u001b[0m\u001b[0;34m\u001b[0m\u001b[0m\n\u001b[1;32m    397\u001b[0m \u001b[0;34m\u001b[0m\u001b[0m\n",
            "\u001b[0;31mKeyError\u001b[0m: 'class'"
          ]
        }
      ]
    },
    {
      "cell_type": "code",
      "source": [
        "import pandas as pd\n",
        "from sklearn.model_selection import train_test_split\n",
        "from sklearn.linear_model import LogisticRegression\n",
        "from sklearn.metrics import accuracy_score\n",
        "\n",
        "\n",
        "# Separate features and target\n",
        "X = df.drop('class', axis=1)\n",
        "y = df['class']\n",
        "\n",
        "# Split the dataset into training and testing sets\n",
        "X_train, X_test, y_train, y_test = train_test_split(X, y, test_size=0.2, random_state=42)\n",
        "\n",
        "# Initialize the Logistic Regression model\n",
        "model = LogisticRegression(random_state=42)\n",
        "\n",
        "# Train the model\n",
        "model.fit(X_train, y_train)\n",
        "\n",
        "# Make predictions\n",
        "y_pred = model.predict(X_test)\n",
        "\n",
        "# Calculate accuracy\n",
        "accuracy = accuracy_score(y_test, y_pred)\n",
        "print(f\"Accuracy: {accuracy:.2f}\")\n"
      ],
      "metadata": {
        "colab": {
          "base_uri": "https://localhost:8080/",
          "height": 303
        },
        "id": "tO96Rioaxsme",
        "outputId": "5d24e7ef-65ec-414d-de18-7b349f24dad2"
      },
      "execution_count": null,
      "outputs": [
        {
          "output_type": "error",
          "ename": "ValueError",
          "evalue": "ignored",
          "traceback": [
            "\u001b[0;31m---------------------------------------------------------------------------\u001b[0m",
            "\u001b[0;31mValueError\u001b[0m                                Traceback (most recent call last)",
            "\u001b[0;32m<ipython-input-19-a99b86fa3683>\u001b[0m in \u001b[0;36m<cell line: 18>\u001b[0;34m()\u001b[0m\n\u001b[1;32m     16\u001b[0m \u001b[0;34m\u001b[0m\u001b[0m\n\u001b[1;32m     17\u001b[0m \u001b[0;31m# Train the model\u001b[0m\u001b[0;34m\u001b[0m\u001b[0;34m\u001b[0m\u001b[0m\n\u001b[0;32m---> 18\u001b[0;31m \u001b[0mmodel\u001b[0m\u001b[0;34m.\u001b[0m\u001b[0mfit\u001b[0m\u001b[0;34m(\u001b[0m\u001b[0mX_train\u001b[0m\u001b[0;34m,\u001b[0m \u001b[0my_train\u001b[0m\u001b[0;34m)\u001b[0m\u001b[0;34m\u001b[0m\u001b[0;34m\u001b[0m\u001b[0m\n\u001b[0m\u001b[1;32m     19\u001b[0m \u001b[0;34m\u001b[0m\u001b[0m\n\u001b[1;32m     20\u001b[0m \u001b[0;31m# Make predictions\u001b[0m\u001b[0;34m\u001b[0m\u001b[0;34m\u001b[0m\u001b[0m\n",
            "\u001b[0;32m/usr/local/lib/python3.10/dist-packages/sklearn/linear_model/_logistic.py\u001b[0m in \u001b[0;36mfit\u001b[0;34m(self, X, y, sample_weight)\u001b[0m\n\u001b[1;32m   1194\u001b[0m             \u001b[0m_dtype\u001b[0m \u001b[0;34m=\u001b[0m \u001b[0;34m[\u001b[0m\u001b[0mnp\u001b[0m\u001b[0;34m.\u001b[0m\u001b[0mfloat64\u001b[0m\u001b[0;34m,\u001b[0m \u001b[0mnp\u001b[0m\u001b[0;34m.\u001b[0m\u001b[0mfloat32\u001b[0m\u001b[0;34m]\u001b[0m\u001b[0;34m\u001b[0m\u001b[0;34m\u001b[0m\u001b[0m\n\u001b[1;32m   1195\u001b[0m \u001b[0;34m\u001b[0m\u001b[0m\n\u001b[0;32m-> 1196\u001b[0;31m         X, y = self._validate_data(\n\u001b[0m\u001b[1;32m   1197\u001b[0m             \u001b[0mX\u001b[0m\u001b[0;34m,\u001b[0m\u001b[0;34m\u001b[0m\u001b[0;34m\u001b[0m\u001b[0m\n\u001b[1;32m   1198\u001b[0m             \u001b[0my\u001b[0m\u001b[0;34m,\u001b[0m\u001b[0;34m\u001b[0m\u001b[0;34m\u001b[0m\u001b[0m\n",
            "\u001b[0;32m/usr/local/lib/python3.10/dist-packages/sklearn/base.py\u001b[0m in \u001b[0;36m_validate_data\u001b[0;34m(self, X, y, reset, validate_separately, **check_params)\u001b[0m\n\u001b[1;32m    582\u001b[0m                 \u001b[0my\u001b[0m \u001b[0;34m=\u001b[0m \u001b[0mcheck_array\u001b[0m\u001b[0;34m(\u001b[0m\u001b[0my\u001b[0m\u001b[0;34m,\u001b[0m \u001b[0minput_name\u001b[0m\u001b[0;34m=\u001b[0m\u001b[0;34m\"y\"\u001b[0m\u001b[0;34m,\u001b[0m \u001b[0;34m**\u001b[0m\u001b[0mcheck_y_params\u001b[0m\u001b[0;34m)\u001b[0m\u001b[0;34m\u001b[0m\u001b[0;34m\u001b[0m\u001b[0m\n\u001b[1;32m    583\u001b[0m             \u001b[0;32melse\u001b[0m\u001b[0;34m:\u001b[0m\u001b[0;34m\u001b[0m\u001b[0;34m\u001b[0m\u001b[0m\n\u001b[0;32m--> 584\u001b[0;31m                 \u001b[0mX\u001b[0m\u001b[0;34m,\u001b[0m \u001b[0my\u001b[0m \u001b[0;34m=\u001b[0m \u001b[0mcheck_X_y\u001b[0m\u001b[0;34m(\u001b[0m\u001b[0mX\u001b[0m\u001b[0;34m,\u001b[0m \u001b[0my\u001b[0m\u001b[0;34m,\u001b[0m \u001b[0;34m**\u001b[0m\u001b[0mcheck_params\u001b[0m\u001b[0;34m)\u001b[0m\u001b[0;34m\u001b[0m\u001b[0;34m\u001b[0m\u001b[0m\n\u001b[0m\u001b[1;32m    585\u001b[0m             \u001b[0mout\u001b[0m \u001b[0;34m=\u001b[0m \u001b[0mX\u001b[0m\u001b[0;34m,\u001b[0m \u001b[0my\u001b[0m\u001b[0;34m\u001b[0m\u001b[0;34m\u001b[0m\u001b[0m\n\u001b[1;32m    586\u001b[0m \u001b[0;34m\u001b[0m\u001b[0m\n",
            "\u001b[0;32m/usr/local/lib/python3.10/dist-packages/sklearn/utils/validation.py\u001b[0m in \u001b[0;36mcheck_X_y\u001b[0;34m(X, y, accept_sparse, accept_large_sparse, dtype, order, copy, force_all_finite, ensure_2d, allow_nd, multi_output, ensure_min_samples, ensure_min_features, y_numeric, estimator)\u001b[0m\n\u001b[1;32m   1104\u001b[0m         )\n\u001b[1;32m   1105\u001b[0m \u001b[0;34m\u001b[0m\u001b[0m\n\u001b[0;32m-> 1106\u001b[0;31m     X = check_array(\n\u001b[0m\u001b[1;32m   1107\u001b[0m         \u001b[0mX\u001b[0m\u001b[0;34m,\u001b[0m\u001b[0;34m\u001b[0m\u001b[0;34m\u001b[0m\u001b[0m\n\u001b[1;32m   1108\u001b[0m         \u001b[0maccept_sparse\u001b[0m\u001b[0;34m=\u001b[0m\u001b[0maccept_sparse\u001b[0m\u001b[0;34m,\u001b[0m\u001b[0;34m\u001b[0m\u001b[0;34m\u001b[0m\u001b[0m\n",
            "\u001b[0;32m/usr/local/lib/python3.10/dist-packages/sklearn/utils/validation.py\u001b[0m in \u001b[0;36mcheck_array\u001b[0;34m(array, accept_sparse, accept_large_sparse, dtype, order, copy, force_all_finite, ensure_2d, allow_nd, ensure_min_samples, ensure_min_features, estimator, input_name)\u001b[0m\n\u001b[1;32m    776\u001b[0m         )\n\u001b[1;32m    777\u001b[0m         \u001b[0;32mif\u001b[0m \u001b[0mall\u001b[0m\u001b[0;34m(\u001b[0m\u001b[0misinstance\u001b[0m\u001b[0;34m(\u001b[0m\u001b[0mdtype_iter\u001b[0m\u001b[0;34m,\u001b[0m \u001b[0mnp\u001b[0m\u001b[0;34m.\u001b[0m\u001b[0mdtype\u001b[0m\u001b[0;34m)\u001b[0m \u001b[0;32mfor\u001b[0m \u001b[0mdtype_iter\u001b[0m \u001b[0;32min\u001b[0m \u001b[0mdtypes_orig\u001b[0m\u001b[0;34m)\u001b[0m\u001b[0;34m:\u001b[0m\u001b[0;34m\u001b[0m\u001b[0;34m\u001b[0m\u001b[0m\n\u001b[0;32m--> 778\u001b[0;31m             \u001b[0mdtype_orig\u001b[0m \u001b[0;34m=\u001b[0m \u001b[0mnp\u001b[0m\u001b[0;34m.\u001b[0m\u001b[0mresult_type\u001b[0m\u001b[0;34m(\u001b[0m\u001b[0;34m*\u001b[0m\u001b[0mdtypes_orig\u001b[0m\u001b[0;34m)\u001b[0m\u001b[0;34m\u001b[0m\u001b[0;34m\u001b[0m\u001b[0m\n\u001b[0m\u001b[1;32m    779\u001b[0m \u001b[0;34m\u001b[0m\u001b[0m\n\u001b[1;32m    780\u001b[0m     \u001b[0;32melif\u001b[0m \u001b[0mhasattr\u001b[0m\u001b[0;34m(\u001b[0m\u001b[0marray\u001b[0m\u001b[0;34m,\u001b[0m \u001b[0;34m\"iloc\"\u001b[0m\u001b[0;34m)\u001b[0m \u001b[0;32mand\u001b[0m \u001b[0mhasattr\u001b[0m\u001b[0;34m(\u001b[0m\u001b[0marray\u001b[0m\u001b[0;34m,\u001b[0m \u001b[0;34m\"dtype\"\u001b[0m\u001b[0;34m)\u001b[0m\u001b[0;34m:\u001b[0m\u001b[0;34m\u001b[0m\u001b[0;34m\u001b[0m\u001b[0m\n",
            "\u001b[0;32m/usr/local/lib/python3.10/dist-packages/numpy/core/overrides.py\u001b[0m in \u001b[0;36mresult_type\u001b[0;34m(*args, **kwargs)\u001b[0m\n",
            "\u001b[0;31mValueError\u001b[0m: at least one array or dtype is required"
          ]
        }
      ]
    },
    {
      "cell_type": "code",
      "source": [
        "from pycaret.datasets import get_data\n",
        "ckd = get_data('kidney')"
      ],
      "metadata": {
        "id": "DU-1L-e9R4iW",
        "colab": {
          "base_uri": "https://localhost:8080/",
          "height": 236
        },
        "outputId": "61f2a910-f755-4488-e3a2-b361e763da93"
      },
      "execution_count": null,
      "outputs": [
        {
          "output_type": "display_data",
          "data": {
            "text/plain": [
              "    age    bp     sg   al   su     rbc        pc         pcc          ba  \\\n",
              "0  48.0  80.0  1.020  1.0  0.0     NaN    normal  notpresent  notpresent   \n",
              "1   7.0  50.0  1.020  4.0  0.0     NaN    normal  notpresent  notpresent   \n",
              "2  62.0  80.0  1.010  2.0  3.0  normal    normal  notpresent  notpresent   \n",
              "3  48.0  70.0  1.005  4.0  0.0  normal  abnormal     present  notpresent   \n",
              "4  51.0  80.0  1.010  2.0  0.0  normal    normal  notpresent  notpresent   \n",
              "\n",
              "     bgr  ...   pcv    wbcc  rbcc  htn   dm  cad  appet   pe  ane class  \n",
              "0  121.0  ...  44.0  7800.0   5.2  yes  yes   no   good   no   no   ckd  \n",
              "1    NaN  ...  38.0  6000.0   NaN   no   no   no   good   no   no   ckd  \n",
              "2  423.0  ...  31.0  7500.0   NaN   no  yes   no   poor   no  yes   ckd  \n",
              "3  117.0  ...  32.0  6700.0   3.9  yes   no   no   poor  yes  yes   ckd  \n",
              "4  106.0  ...  35.0  7300.0   4.6   no   no   no   good   no   no   ckd  \n",
              "\n",
              "[5 rows x 25 columns]"
            ],
            "text/html": [
              "\n",
              "  <div id=\"df-3fae5e2b-1322-47e0-9bea-6c77c52b8ba6\" class=\"colab-df-container\">\n",
              "    <div>\n",
              "<style scoped>\n",
              "    .dataframe tbody tr th:only-of-type {\n",
              "        vertical-align: middle;\n",
              "    }\n",
              "\n",
              "    .dataframe tbody tr th {\n",
              "        vertical-align: top;\n",
              "    }\n",
              "\n",
              "    .dataframe thead th {\n",
              "        text-align: right;\n",
              "    }\n",
              "</style>\n",
              "<table border=\"1\" class=\"dataframe\">\n",
              "  <thead>\n",
              "    <tr style=\"text-align: right;\">\n",
              "      <th></th>\n",
              "      <th>age</th>\n",
              "      <th>bp</th>\n",
              "      <th>sg</th>\n",
              "      <th>al</th>\n",
              "      <th>su</th>\n",
              "      <th>rbc</th>\n",
              "      <th>pc</th>\n",
              "      <th>pcc</th>\n",
              "      <th>ba</th>\n",
              "      <th>bgr</th>\n",
              "      <th>...</th>\n",
              "      <th>pcv</th>\n",
              "      <th>wbcc</th>\n",
              "      <th>rbcc</th>\n",
              "      <th>htn</th>\n",
              "      <th>dm</th>\n",
              "      <th>cad</th>\n",
              "      <th>appet</th>\n",
              "      <th>pe</th>\n",
              "      <th>ane</th>\n",
              "      <th>class</th>\n",
              "    </tr>\n",
              "  </thead>\n",
              "  <tbody>\n",
              "    <tr>\n",
              "      <th>0</th>\n",
              "      <td>48.0</td>\n",
              "      <td>80.0</td>\n",
              "      <td>1.020</td>\n",
              "      <td>1.0</td>\n",
              "      <td>0.0</td>\n",
              "      <td>NaN</td>\n",
              "      <td>normal</td>\n",
              "      <td>notpresent</td>\n",
              "      <td>notpresent</td>\n",
              "      <td>121.0</td>\n",
              "      <td>...</td>\n",
              "      <td>44.0</td>\n",
              "      <td>7800.0</td>\n",
              "      <td>5.2</td>\n",
              "      <td>yes</td>\n",
              "      <td>yes</td>\n",
              "      <td>no</td>\n",
              "      <td>good</td>\n",
              "      <td>no</td>\n",
              "      <td>no</td>\n",
              "      <td>ckd</td>\n",
              "    </tr>\n",
              "    <tr>\n",
              "      <th>1</th>\n",
              "      <td>7.0</td>\n",
              "      <td>50.0</td>\n",
              "      <td>1.020</td>\n",
              "      <td>4.0</td>\n",
              "      <td>0.0</td>\n",
              "      <td>NaN</td>\n",
              "      <td>normal</td>\n",
              "      <td>notpresent</td>\n",
              "      <td>notpresent</td>\n",
              "      <td>NaN</td>\n",
              "      <td>...</td>\n",
              "      <td>38.0</td>\n",
              "      <td>6000.0</td>\n",
              "      <td>NaN</td>\n",
              "      <td>no</td>\n",
              "      <td>no</td>\n",
              "      <td>no</td>\n",
              "      <td>good</td>\n",
              "      <td>no</td>\n",
              "      <td>no</td>\n",
              "      <td>ckd</td>\n",
              "    </tr>\n",
              "    <tr>\n",
              "      <th>2</th>\n",
              "      <td>62.0</td>\n",
              "      <td>80.0</td>\n",
              "      <td>1.010</td>\n",
              "      <td>2.0</td>\n",
              "      <td>3.0</td>\n",
              "      <td>normal</td>\n",
              "      <td>normal</td>\n",
              "      <td>notpresent</td>\n",
              "      <td>notpresent</td>\n",
              "      <td>423.0</td>\n",
              "      <td>...</td>\n",
              "      <td>31.0</td>\n",
              "      <td>7500.0</td>\n",
              "      <td>NaN</td>\n",
              "      <td>no</td>\n",
              "      <td>yes</td>\n",
              "      <td>no</td>\n",
              "      <td>poor</td>\n",
              "      <td>no</td>\n",
              "      <td>yes</td>\n",
              "      <td>ckd</td>\n",
              "    </tr>\n",
              "    <tr>\n",
              "      <th>3</th>\n",
              "      <td>48.0</td>\n",
              "      <td>70.0</td>\n",
              "      <td>1.005</td>\n",
              "      <td>4.0</td>\n",
              "      <td>0.0</td>\n",
              "      <td>normal</td>\n",
              "      <td>abnormal</td>\n",
              "      <td>present</td>\n",
              "      <td>notpresent</td>\n",
              "      <td>117.0</td>\n",
              "      <td>...</td>\n",
              "      <td>32.0</td>\n",
              "      <td>6700.0</td>\n",
              "      <td>3.9</td>\n",
              "      <td>yes</td>\n",
              "      <td>no</td>\n",
              "      <td>no</td>\n",
              "      <td>poor</td>\n",
              "      <td>yes</td>\n",
              "      <td>yes</td>\n",
              "      <td>ckd</td>\n",
              "    </tr>\n",
              "    <tr>\n",
              "      <th>4</th>\n",
              "      <td>51.0</td>\n",
              "      <td>80.0</td>\n",
              "      <td>1.010</td>\n",
              "      <td>2.0</td>\n",
              "      <td>0.0</td>\n",
              "      <td>normal</td>\n",
              "      <td>normal</td>\n",
              "      <td>notpresent</td>\n",
              "      <td>notpresent</td>\n",
              "      <td>106.0</td>\n",
              "      <td>...</td>\n",
              "      <td>35.0</td>\n",
              "      <td>7300.0</td>\n",
              "      <td>4.6</td>\n",
              "      <td>no</td>\n",
              "      <td>no</td>\n",
              "      <td>no</td>\n",
              "      <td>good</td>\n",
              "      <td>no</td>\n",
              "      <td>no</td>\n",
              "      <td>ckd</td>\n",
              "    </tr>\n",
              "  </tbody>\n",
              "</table>\n",
              "<p>5 rows × 25 columns</p>\n",
              "</div>\n",
              "    <div class=\"colab-df-buttons\">\n",
              "\n",
              "  <div class=\"colab-df-container\">\n",
              "    <button class=\"colab-df-convert\" onclick=\"convertToInteractive('df-3fae5e2b-1322-47e0-9bea-6c77c52b8ba6')\"\n",
              "            title=\"Convert this dataframe to an interactive table.\"\n",
              "            style=\"display:none;\">\n",
              "\n",
              "  <svg xmlns=\"http://www.w3.org/2000/svg\" height=\"24px\" viewBox=\"0 -960 960 960\">\n",
              "    <path d=\"M120-120v-720h720v720H120Zm60-500h600v-160H180v160Zm220 220h160v-160H400v160Zm0 220h160v-160H400v160ZM180-400h160v-160H180v160Zm440 0h160v-160H620v160ZM180-180h160v-160H180v160Zm440 0h160v-160H620v160Z\"/>\n",
              "  </svg>\n",
              "    </button>\n",
              "\n",
              "  <style>\n",
              "    .colab-df-container {\n",
              "      display:flex;\n",
              "      gap: 12px;\n",
              "    }\n",
              "\n",
              "    .colab-df-convert {\n",
              "      background-color: #E8F0FE;\n",
              "      border: none;\n",
              "      border-radius: 50%;\n",
              "      cursor: pointer;\n",
              "      display: none;\n",
              "      fill: #1967D2;\n",
              "      height: 32px;\n",
              "      padding: 0 0 0 0;\n",
              "      width: 32px;\n",
              "    }\n",
              "\n",
              "    .colab-df-convert:hover {\n",
              "      background-color: #E2EBFA;\n",
              "      box-shadow: 0px 1px 2px rgba(60, 64, 67, 0.3), 0px 1px 3px 1px rgba(60, 64, 67, 0.15);\n",
              "      fill: #174EA6;\n",
              "    }\n",
              "\n",
              "    .colab-df-buttons div {\n",
              "      margin-bottom: 4px;\n",
              "    }\n",
              "\n",
              "    [theme=dark] .colab-df-convert {\n",
              "      background-color: #3B4455;\n",
              "      fill: #D2E3FC;\n",
              "    }\n",
              "\n",
              "    [theme=dark] .colab-df-convert:hover {\n",
              "      background-color: #434B5C;\n",
              "      box-shadow: 0px 1px 3px 1px rgba(0, 0, 0, 0.15);\n",
              "      filter: drop-shadow(0px 1px 2px rgba(0, 0, 0, 0.3));\n",
              "      fill: #FFFFFF;\n",
              "    }\n",
              "  </style>\n",
              "\n",
              "    <script>\n",
              "      const buttonEl =\n",
              "        document.querySelector('#df-3fae5e2b-1322-47e0-9bea-6c77c52b8ba6 button.colab-df-convert');\n",
              "      buttonEl.style.display =\n",
              "        google.colab.kernel.accessAllowed ? 'block' : 'none';\n",
              "\n",
              "      async function convertToInteractive(key) {\n",
              "        const element = document.querySelector('#df-3fae5e2b-1322-47e0-9bea-6c77c52b8ba6');\n",
              "        const dataTable =\n",
              "          await google.colab.kernel.invokeFunction('convertToInteractive',\n",
              "                                                    [key], {});\n",
              "        if (!dataTable) return;\n",
              "\n",
              "        const docLinkHtml = 'Like what you see? Visit the ' +\n",
              "          '<a target=\"_blank\" href=https://colab.research.google.com/notebooks/data_table.ipynb>data table notebook</a>'\n",
              "          + ' to learn more about interactive tables.';\n",
              "        element.innerHTML = '';\n",
              "        dataTable['output_type'] = 'display_data';\n",
              "        await google.colab.output.renderOutput(dataTable, element);\n",
              "        const docLink = document.createElement('div');\n",
              "        docLink.innerHTML = docLinkHtml;\n",
              "        element.appendChild(docLink);\n",
              "      }\n",
              "    </script>\n",
              "  </div>\n",
              "\n",
              "\n",
              "<div id=\"df-d635a56a-13b9-44d8-a65a-519f27da78b5\">\n",
              "  <button class=\"colab-df-quickchart\" onclick=\"quickchart('df-d635a56a-13b9-44d8-a65a-519f27da78b5')\"\n",
              "            title=\"Suggest charts.\"\n",
              "            style=\"display:none;\">\n",
              "\n",
              "<svg xmlns=\"http://www.w3.org/2000/svg\" height=\"24px\"viewBox=\"0 0 24 24\"\n",
              "     width=\"24px\">\n",
              "    <g>\n",
              "        <path d=\"M19 3H5c-1.1 0-2 .9-2 2v14c0 1.1.9 2 2 2h14c1.1 0 2-.9 2-2V5c0-1.1-.9-2-2-2zM9 17H7v-7h2v7zm4 0h-2V7h2v10zm4 0h-2v-4h2v4z\"/>\n",
              "    </g>\n",
              "</svg>\n",
              "  </button>\n",
              "\n",
              "<style>\n",
              "  .colab-df-quickchart {\n",
              "    background-color: #E8F0FE;\n",
              "    border: none;\n",
              "    border-radius: 50%;\n",
              "    cursor: pointer;\n",
              "    display: none;\n",
              "    fill: #1967D2;\n",
              "    height: 32px;\n",
              "    padding: 0 0 0 0;\n",
              "    width: 32px;\n",
              "  }\n",
              "\n",
              "  .colab-df-quickchart:hover {\n",
              "    background-color: #E2EBFA;\n",
              "    box-shadow: 0px 1px 2px rgba(60, 64, 67, 0.3), 0px 1px 3px 1px rgba(60, 64, 67, 0.15);\n",
              "    fill: #174EA6;\n",
              "  }\n",
              "\n",
              "  [theme=dark] .colab-df-quickchart {\n",
              "    background-color: #3B4455;\n",
              "    fill: #D2E3FC;\n",
              "  }\n",
              "\n",
              "  [theme=dark] .colab-df-quickchart:hover {\n",
              "    background-color: #434B5C;\n",
              "    box-shadow: 0px 1px 3px 1px rgba(0, 0, 0, 0.15);\n",
              "    filter: drop-shadow(0px 1px 2px rgba(0, 0, 0, 0.3));\n",
              "    fill: #FFFFFF;\n",
              "  }\n",
              "</style>\n",
              "\n",
              "  <script>\n",
              "    async function quickchart(key) {\n",
              "      const charts = await google.colab.kernel.invokeFunction(\n",
              "          'suggestCharts', [key], {});\n",
              "    }\n",
              "    (() => {\n",
              "      let quickchartButtonEl =\n",
              "        document.querySelector('#df-d635a56a-13b9-44d8-a65a-519f27da78b5 button');\n",
              "      quickchartButtonEl.style.display =\n",
              "        google.colab.kernel.accessAllowed ? 'block' : 'none';\n",
              "    })();\n",
              "  </script>\n",
              "</div>\n",
              "    </div>\n",
              "  </div>\n"
            ]
          },
          "metadata": {}
        }
      ]
    },
    {
      "cell_type": "code",
      "source": [
        "print(ckd.head())"
      ],
      "metadata": {
        "id": "Kcr_VRWNVoWP"
      },
      "execution_count": null,
      "outputs": []
    },
    {
      "cell_type": "code",
      "source": [
        "column_to_delete = 'age'\n",
        "ckd.drop(column_to_delete, axis=1, inplace=True)"
      ],
      "metadata": {
        "id": "2TCGkEQxVL05"
      },
      "execution_count": null,
      "outputs": []
    },
    {
      "cell_type": "code",
      "source": [
        "print(ckd.head())\n"
      ],
      "metadata": {
        "id": "QRGOyQnJV8O3"
      },
      "execution_count": null,
      "outputs": []
    },
    {
      "cell_type": "code",
      "source": [],
      "metadata": {
        "id": "uym5wnZFXhR_"
      },
      "execution_count": null,
      "outputs": []
    },
    {
      "cell_type": "code",
      "source": [
        "# sample 5% of data to be used as unseen data\n",
        "data = df.sample(frac=0.8, random_state=786)\n",
        "data_unseen = df.drop(data.index)\n",
        "data.reset_index(inplace=True, drop=True)\n",
        "data_unseen.reset_index(inplace=True, drop=True)\n"
      ],
      "metadata": {
        "id": "HSe4bbnFW6vo"
      },
      "execution_count": null,
      "outputs": []
    },
    {
      "cell_type": "code",
      "source": [
        "# print the revised shape\n",
        "print('Data for Modeling: ' + str(data.shape))\n",
        "print('Unseen Data For Predictions: ' + str(data_unseen.shape))\n"
      ],
      "metadata": {
        "id": "9H9Gi8O_XztM",
        "colab": {
          "base_uri": "https://localhost:8080/"
        },
        "outputId": "baa62930-f651-4f7e-b934-d016520ef40d"
      },
      "execution_count": null,
      "outputs": [
        {
          "output_type": "stream",
          "name": "stdout",
          "text": [
            "Data for Modeling: (8, 1)\n",
            "Unseen Data For Predictions: (2, 1)\n"
          ]
        }
      ]
    },
    {
      "cell_type": "code",
      "source": [
        "# init setup\n",
        "from pycaret.classification import *\n",
        "s = setup(data = data, target = 'class', session_id=123)"
      ],
      "metadata": {
        "id": "UILAnL1lZvGd"
      },
      "execution_count": null,
      "outputs": []
    },
    {
      "cell_type": "code",
      "source": [
        "best_model = compare_models()"
      ],
      "metadata": {
        "id": "kL1oIuNvbYCu"
      },
      "execution_count": null,
      "outputs": []
    },
    {
      "cell_type": "code",
      "source": [
        "ckd['class'] = ckd['class'].map({'notckd':0, 'ckd':1})"
      ],
      "metadata": {
        "id": "7CaMmHaFzBiN"
      },
      "execution_count": null,
      "outputs": []
    },
    {
      "cell_type": "code",
      "source": [
        "ckd.head()"
      ],
      "metadata": {
        "id": "RVRWfMDEzUte"
      },
      "execution_count": null,
      "outputs": []
    },
    {
      "cell_type": "code",
      "source": [],
      "metadata": {
        "id": "gjq-oNLqzR3W"
      },
      "execution_count": null,
      "outputs": []
    },
    {
      "cell_type": "code",
      "source": [],
      "metadata": {
        "id": "YoKHkK8OuKMQ"
      },
      "execution_count": null,
      "outputs": []
    },
    {
      "cell_type": "code",
      "source": [
        "create_model('et', return_train_score=True)"
      ],
      "metadata": {
        "id": "sPFNfXz8gy1e"
      },
      "execution_count": null,
      "outputs": []
    },
    {
      "cell_type": "code",
      "source": [
        "et = create_model('et')"
      ],
      "metadata": {
        "id": "H-Vi-sOHkLG9"
      },
      "execution_count": null,
      "outputs": []
    },
    {
      "cell_type": "code",
      "source": [
        "tuned_et = tune_model(et)"
      ],
      "metadata": {
        "id": "q7r6PPlvj5hZ"
      },
      "execution_count": null,
      "outputs": []
    },
    {
      "cell_type": "code",
      "source": [
        "plot_model(tuned_et, plot = 'confusion_matrix')"
      ],
      "metadata": {
        "id": "8c0oKh4vjJq7"
      },
      "execution_count": null,
      "outputs": []
    },
    {
      "cell_type": "code",
      "source": [
        "plot_model(tuned_et, plot = 'threshold') # find a new threshold\n",
        "\n",
        "plot_model(tuned_et, plot = 'confusion_matrix', plot_kwargs={'percent' : True})"
      ],
      "metadata": {
        "id": "amSiLnyslRxD"
      },
      "execution_count": null,
      "outputs": []
    },
    {
      "cell_type": "code",
      "source": [
        "print(ckd.head())"
      ],
      "metadata": {
        "id": "mx77xpeusaJe"
      },
      "execution_count": null,
      "outputs": []
    },
    {
      "cell_type": "code",
      "source": [
        "train_df = ckd.drop(columns=['bp','sg','al','su','rbc','pc','pcc','ba','bgr','bu','sc','sod','pot','hemo','pcv','wbcc','rbcc','htn','dm','cad','appet','pe','ane',])"
      ],
      "metadata": {
        "id": "IC9_T_tjolqu"
      },
      "execution_count": null,
      "outputs": []
    },
    {
      "cell_type": "code",
      "source": [
        "X_train = train_df.drop('class', axis=1)\n",
        "Y_train = train_df['class']"
      ],
      "metadata": {
        "id": "V7PJ-YsIrmPD"
      },
      "execution_count": null,
      "outputs": []
    },
    {
      "cell_type": "code",
      "source": [
        "train_df.tail()"
      ],
      "metadata": {
        "id": "280yn9SVtYHb"
      },
      "execution_count": null,
      "outputs": []
    },
    {
      "cell_type": "code",
      "source": [
        "train_df['class'] = train_df['class'].map({'notckd':0, 'ckd':1})"
      ],
      "metadata": {
        "id": "qlOWOonEuPXY"
      },
      "execution_count": null,
      "outputs": []
    },
    {
      "cell_type": "code",
      "source": [
        "train_df.head()"
      ],
      "metadata": {
        "id": "HPqN1V5UubxR"
      },
      "execution_count": null,
      "outputs": []
    },
    {
      "cell_type": "code",
      "source": [
        "train_df.tail()"
      ],
      "metadata": {
        "id": "kLzsC_Yeug3g"
      },
      "execution_count": null,
      "outputs": []
    },
    {
      "cell_type": "code",
      "source": [
        "plt = train_df.value_counts().sort_index().plot(kind='bar')\n"
      ],
      "metadata": {
        "id": "rVDAOZqQvg51"
      },
      "execution_count": null,
      "outputs": []
    },
    {
      "cell_type": "code",
      "source": [
        "X_train = ckd.drop('class', axis=1)\n",
        "Y_train = ckd['class']"
      ],
      "metadata": {
        "id": "plvNVXqc1ihX"
      },
      "execution_count": null,
      "outputs": []
    },
    {
      "cell_type": "code",
      "source": [
        "X_train.isnull().sum()"
      ],
      "metadata": {
        "id": "PtNkx6Zn1mnj"
      },
      "execution_count": null,
      "outputs": []
    },
    {
      "cell_type": "code",
      "source": [
        "X_train, X_test, y_train, y_test = ckd(X, y)\n",
        "X = data.drop('class', axis=1)\n",
        "y = data['class']\n"
      ],
      "metadata": {
        "id": "FnkMv1oVrlTb"
      },
      "execution_count": null,
      "outputs": []
    },
    {
      "cell_type": "code",
      "source": [],
      "metadata": {
        "id": "iZs01N2Npjg5"
      },
      "execution_count": null,
      "outputs": []
    }
  ]
}